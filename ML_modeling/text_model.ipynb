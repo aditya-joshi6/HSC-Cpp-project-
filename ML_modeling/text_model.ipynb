{
 "cells": [
  {
   "cell_type": "code",
   "execution_count": 3,
   "metadata": {},
   "outputs": [],
   "source": [
    "import pandas as pd\n",
    "import numpy as np\n",
    "import matplotlib.pyplot as plt\n",
    "import seaborn as sns\n",
    "from sklearn.preprocessing import StandardScaler\n",
    "from sklearn.decomposition import PCA\n",
    "from keras.models import Sequential\n",
    "from keras.layers import Dense,Dropout,Input,Embedding,Flatten"
   ]
  },
  {
   "cell_type": "code",
   "execution_count": 4,
   "metadata": {},
   "outputs": [],
   "source": [
    "df_train = pd.read_csv(r'C:\\Users\\Work\\Desktop\\cppCode\\project\\dataset\\train.csv',encoding='iso-8859-1')\n",
    "df_test = pd.read_csv(r'C:\\Users\\Work\\Desktop\\cppCode\\project\\dataset\\test.csv',encoding='iso-8859-1')"
   ]
  },
  {
   "cell_type": "code",
   "execution_count": 5,
   "metadata": {},
   "outputs": [
    {
     "data": {
      "text/html": [
       "<div>\n",
       "<style scoped>\n",
       "    .dataframe tbody tr th:only-of-type {\n",
       "        vertical-align: middle;\n",
       "    }\n",
       "\n",
       "    .dataframe tbody tr th {\n",
       "        vertical-align: top;\n",
       "    }\n",
       "\n",
       "    .dataframe thead th {\n",
       "        text-align: right;\n",
       "    }\n",
       "</style>\n",
       "<table border=\"1\" class=\"dataframe\">\n",
       "  <thead>\n",
       "    <tr style=\"text-align: right;\">\n",
       "      <th></th>\n",
       "      <th>textID</th>\n",
       "      <th>text</th>\n",
       "      <th>selected_text</th>\n",
       "      <th>sentiment</th>\n",
       "      <th>Time of Tweet</th>\n",
       "      <th>Age of User</th>\n",
       "      <th>Country</th>\n",
       "      <th>Population -2020</th>\n",
       "      <th>Land Area (Km²)</th>\n",
       "      <th>Density (P/Km²)</th>\n",
       "    </tr>\n",
       "  </thead>\n",
       "  <tbody>\n",
       "    <tr>\n",
       "      <th>0</th>\n",
       "      <td>cb774db0d1</td>\n",
       "      <td>I`d have responded, if I were going</td>\n",
       "      <td>I`d have responded, if I were going</td>\n",
       "      <td>neutral</td>\n",
       "      <td>morning</td>\n",
       "      <td>0-20</td>\n",
       "      <td>Afghanistan</td>\n",
       "      <td>38928346</td>\n",
       "      <td>652860.0</td>\n",
       "      <td>60</td>\n",
       "    </tr>\n",
       "    <tr>\n",
       "      <th>1</th>\n",
       "      <td>549e992a42</td>\n",
       "      <td>Sooo SAD I will miss you here in San Diego!!!</td>\n",
       "      <td>Sooo SAD</td>\n",
       "      <td>negative</td>\n",
       "      <td>noon</td>\n",
       "      <td>21-30</td>\n",
       "      <td>Albania</td>\n",
       "      <td>2877797</td>\n",
       "      <td>27400.0</td>\n",
       "      <td>105</td>\n",
       "    </tr>\n",
       "    <tr>\n",
       "      <th>2</th>\n",
       "      <td>088c60f138</td>\n",
       "      <td>my boss is bullying me...</td>\n",
       "      <td>bullying me</td>\n",
       "      <td>negative</td>\n",
       "      <td>night</td>\n",
       "      <td>31-45</td>\n",
       "      <td>Algeria</td>\n",
       "      <td>43851044</td>\n",
       "      <td>2381740.0</td>\n",
       "      <td>18</td>\n",
       "    </tr>\n",
       "    <tr>\n",
       "      <th>3</th>\n",
       "      <td>9642c003ef</td>\n",
       "      <td>what interview! leave me alone</td>\n",
       "      <td>leave me alone</td>\n",
       "      <td>negative</td>\n",
       "      <td>morning</td>\n",
       "      <td>46-60</td>\n",
       "      <td>Andorra</td>\n",
       "      <td>77265</td>\n",
       "      <td>470.0</td>\n",
       "      <td>164</td>\n",
       "    </tr>\n",
       "    <tr>\n",
       "      <th>4</th>\n",
       "      <td>358bd9e861</td>\n",
       "      <td>Sons of ****, why couldn`t they put them on t...</td>\n",
       "      <td>Sons of ****,</td>\n",
       "      <td>negative</td>\n",
       "      <td>noon</td>\n",
       "      <td>60-70</td>\n",
       "      <td>Angola</td>\n",
       "      <td>32866272</td>\n",
       "      <td>1246700.0</td>\n",
       "      <td>26</td>\n",
       "    </tr>\n",
       "  </tbody>\n",
       "</table>\n",
       "</div>"
      ],
      "text/plain": [
       "       textID                                               text  \\\n",
       "0  cb774db0d1                I`d have responded, if I were going   \n",
       "1  549e992a42      Sooo SAD I will miss you here in San Diego!!!   \n",
       "2  088c60f138                          my boss is bullying me...   \n",
       "3  9642c003ef                     what interview! leave me alone   \n",
       "4  358bd9e861   Sons of ****, why couldn`t they put them on t...   \n",
       "\n",
       "                         selected_text sentiment Time of Tweet Age of User  \\\n",
       "0  I`d have responded, if I were going   neutral       morning        0-20   \n",
       "1                             Sooo SAD  negative          noon       21-30   \n",
       "2                          bullying me  negative         night       31-45   \n",
       "3                       leave me alone  negative       morning       46-60   \n",
       "4                        Sons of ****,  negative          noon       60-70   \n",
       "\n",
       "       Country  Population -2020  Land Area (Km²)  Density (P/Km²)  \n",
       "0  Afghanistan          38928346         652860.0               60  \n",
       "1      Albania           2877797          27400.0              105  \n",
       "2      Algeria          43851044        2381740.0               18  \n",
       "3      Andorra             77265            470.0              164  \n",
       "4       Angola          32866272        1246700.0               26  "
      ]
     },
     "execution_count": 5,
     "metadata": {},
     "output_type": "execute_result"
    }
   ],
   "source": [
    "df_train.head()"
   ]
  },
  {
   "cell_type": "code",
   "execution_count": 6,
   "metadata": {},
   "outputs": [
    {
     "data": {
      "text/plain": [
       "sentiment\n",
       "neutral     11118\n",
       "positive     8582\n",
       "negative     7781\n",
       "Name: count, dtype: int64"
      ]
     },
     "execution_count": 6,
     "metadata": {},
     "output_type": "execute_result"
    }
   ],
   "source": [
    "df_train['sentiment'].value_counts()"
   ]
  },
  {
   "cell_type": "code",
   "execution_count": 7,
   "metadata": {},
   "outputs": [
    {
     "data": {
      "text/plain": [
       "sentiment\n",
       "neutral     1430\n",
       "positive    1103\n",
       "negative    1001\n",
       "Name: count, dtype: int64"
      ]
     },
     "execution_count": 7,
     "metadata": {},
     "output_type": "execute_result"
    }
   ],
   "source": [
    "df_test['sentiment'].value_counts()"
   ]
  },
  {
   "cell_type": "code",
   "execution_count": 8,
   "metadata": {},
   "outputs": [],
   "source": [
    "df_test = df_test[df_test['sentiment'] != 'neutral']\n",
    "df_train = df_train[df_train['sentiment'] != 'neutral']\n"
   ]
  },
  {
   "cell_type": "code",
   "execution_count": 9,
   "metadata": {},
   "outputs": [
    {
     "data": {
      "text/plain": [
       "sentiment\n",
       "positive    1103\n",
       "negative    1001\n",
       "Name: count, dtype: int64"
      ]
     },
     "execution_count": 9,
     "metadata": {},
     "output_type": "execute_result"
    }
   ],
   "source": [
    "df_test['sentiment'].value_counts()"
   ]
  },
  {
   "cell_type": "code",
   "execution_count": 10,
   "metadata": {},
   "outputs": [
    {
     "data": {
      "text/plain": [
       "sentiment\n",
       "positive    8582\n",
       "negative    7781\n",
       "Name: count, dtype: int64"
      ]
     },
     "execution_count": 10,
     "metadata": {},
     "output_type": "execute_result"
    }
   ],
   "source": [
    "df_train['sentiment'].value_counts()"
   ]
  },
  {
   "cell_type": "code",
   "execution_count": 11,
   "metadata": {},
   "outputs": [],
   "source": [
    "df_train['sentiment'] = df_train['sentiment'].map({'negative':0,'positive':1})\n",
    "df_test['sentiment'] = df_test['sentiment'].map({'negative':0,'positive':1})"
   ]
  },
  {
   "cell_type": "code",
   "execution_count": 12,
   "metadata": {},
   "outputs": [
    {
     "data": {
      "text/html": [
       "<div>\n",
       "<style scoped>\n",
       "    .dataframe tbody tr th:only-of-type {\n",
       "        vertical-align: middle;\n",
       "    }\n",
       "\n",
       "    .dataframe tbody tr th {\n",
       "        vertical-align: top;\n",
       "    }\n",
       "\n",
       "    .dataframe thead th {\n",
       "        text-align: right;\n",
       "    }\n",
       "</style>\n",
       "<table border=\"1\" class=\"dataframe\">\n",
       "  <thead>\n",
       "    <tr style=\"text-align: right;\">\n",
       "      <th></th>\n",
       "      <th>textID</th>\n",
       "      <th>text</th>\n",
       "      <th>selected_text</th>\n",
       "      <th>sentiment</th>\n",
       "      <th>Time of Tweet</th>\n",
       "      <th>Age of User</th>\n",
       "      <th>Country</th>\n",
       "      <th>Population -2020</th>\n",
       "      <th>Land Area (Km²)</th>\n",
       "      <th>Density (P/Km²)</th>\n",
       "    </tr>\n",
       "  </thead>\n",
       "  <tbody>\n",
       "    <tr>\n",
       "      <th>1</th>\n",
       "      <td>549e992a42</td>\n",
       "      <td>Sooo SAD I will miss you here in San Diego!!!</td>\n",
       "      <td>Sooo SAD</td>\n",
       "      <td>0</td>\n",
       "      <td>noon</td>\n",
       "      <td>21-30</td>\n",
       "      <td>Albania</td>\n",
       "      <td>2877797</td>\n",
       "      <td>27400.0</td>\n",
       "      <td>105</td>\n",
       "    </tr>\n",
       "    <tr>\n",
       "      <th>2</th>\n",
       "      <td>088c60f138</td>\n",
       "      <td>my boss is bullying me...</td>\n",
       "      <td>bullying me</td>\n",
       "      <td>0</td>\n",
       "      <td>night</td>\n",
       "      <td>31-45</td>\n",
       "      <td>Algeria</td>\n",
       "      <td>43851044</td>\n",
       "      <td>2381740.0</td>\n",
       "      <td>18</td>\n",
       "    </tr>\n",
       "    <tr>\n",
       "      <th>3</th>\n",
       "      <td>9642c003ef</td>\n",
       "      <td>what interview! leave me alone</td>\n",
       "      <td>leave me alone</td>\n",
       "      <td>0</td>\n",
       "      <td>morning</td>\n",
       "      <td>46-60</td>\n",
       "      <td>Andorra</td>\n",
       "      <td>77265</td>\n",
       "      <td>470.0</td>\n",
       "      <td>164</td>\n",
       "    </tr>\n",
       "    <tr>\n",
       "      <th>4</th>\n",
       "      <td>358bd9e861</td>\n",
       "      <td>Sons of ****, why couldn`t they put them on t...</td>\n",
       "      <td>Sons of ****,</td>\n",
       "      <td>0</td>\n",
       "      <td>noon</td>\n",
       "      <td>60-70</td>\n",
       "      <td>Angola</td>\n",
       "      <td>32866272</td>\n",
       "      <td>1246700.0</td>\n",
       "      <td>26</td>\n",
       "    </tr>\n",
       "    <tr>\n",
       "      <th>6</th>\n",
       "      <td>6e0c6d75b1</td>\n",
       "      <td>2am feedings for the baby are fun when he is a...</td>\n",
       "      <td>fun</td>\n",
       "      <td>1</td>\n",
       "      <td>morning</td>\n",
       "      <td>0-20</td>\n",
       "      <td>Argentina</td>\n",
       "      <td>45195774</td>\n",
       "      <td>2736690.0</td>\n",
       "      <td>17</td>\n",
       "    </tr>\n",
       "  </tbody>\n",
       "</table>\n",
       "</div>"
      ],
      "text/plain": [
       "       textID                                               text  \\\n",
       "1  549e992a42      Sooo SAD I will miss you here in San Diego!!!   \n",
       "2  088c60f138                          my boss is bullying me...   \n",
       "3  9642c003ef                     what interview! leave me alone   \n",
       "4  358bd9e861   Sons of ****, why couldn`t they put them on t...   \n",
       "6  6e0c6d75b1  2am feedings for the baby are fun when he is a...   \n",
       "\n",
       "    selected_text  sentiment Time of Tweet Age of User    Country  \\\n",
       "1        Sooo SAD          0          noon       21-30    Albania   \n",
       "2     bullying me          0         night       31-45    Algeria   \n",
       "3  leave me alone          0       morning       46-60    Andorra   \n",
       "4   Sons of ****,          0          noon       60-70     Angola   \n",
       "6             fun          1       morning        0-20  Argentina   \n",
       "\n",
       "   Population -2020  Land Area (Km²)  Density (P/Km²)  \n",
       "1           2877797          27400.0              105  \n",
       "2          43851044        2381740.0               18  \n",
       "3             77265            470.0              164  \n",
       "4          32866272        1246700.0               26  \n",
       "6          45195774        2736690.0               17  "
      ]
     },
     "execution_count": 12,
     "metadata": {},
     "output_type": "execute_result"
    }
   ],
   "source": [
    "df_train.head()"
   ]
  },
  {
   "cell_type": "code",
   "execution_count": 13,
   "metadata": {},
   "outputs": [],
   "source": [
    "df_train = df_train[['text', 'sentiment']]\n"
   ]
  },
  {
   "cell_type": "code",
   "execution_count": 14,
   "metadata": {},
   "outputs": [
    {
     "data": {
      "text/html": [
       "<div>\n",
       "<style scoped>\n",
       "    .dataframe tbody tr th:only-of-type {\n",
       "        vertical-align: middle;\n",
       "    }\n",
       "\n",
       "    .dataframe tbody tr th {\n",
       "        vertical-align: top;\n",
       "    }\n",
       "\n",
       "    .dataframe thead th {\n",
       "        text-align: right;\n",
       "    }\n",
       "</style>\n",
       "<table border=\"1\" class=\"dataframe\">\n",
       "  <thead>\n",
       "    <tr style=\"text-align: right;\">\n",
       "      <th></th>\n",
       "      <th>textID</th>\n",
       "      <th>text</th>\n",
       "      <th>sentiment</th>\n",
       "      <th>Time of Tweet</th>\n",
       "      <th>Age of User</th>\n",
       "      <th>Country</th>\n",
       "      <th>Population -2020</th>\n",
       "      <th>Land Area (Km²)</th>\n",
       "      <th>Density (P/Km²)</th>\n",
       "    </tr>\n",
       "  </thead>\n",
       "  <tbody>\n",
       "    <tr>\n",
       "      <th>1</th>\n",
       "      <td>96d74cb729</td>\n",
       "      <td>Shanghai is also really exciting (precisely -...</td>\n",
       "      <td>1.0</td>\n",
       "      <td>noon</td>\n",
       "      <td>21-30</td>\n",
       "      <td>Albania</td>\n",
       "      <td>2877797.0</td>\n",
       "      <td>27400.0</td>\n",
       "      <td>105.0</td>\n",
       "    </tr>\n",
       "    <tr>\n",
       "      <th>2</th>\n",
       "      <td>eee518ae67</td>\n",
       "      <td>Recession hit Veronique Branquinho, she has to...</td>\n",
       "      <td>0.0</td>\n",
       "      <td>night</td>\n",
       "      <td>31-45</td>\n",
       "      <td>Algeria</td>\n",
       "      <td>43851044.0</td>\n",
       "      <td>2381740.0</td>\n",
       "      <td>18.0</td>\n",
       "    </tr>\n",
       "    <tr>\n",
       "      <th>3</th>\n",
       "      <td>01082688c6</td>\n",
       "      <td>happy bday!</td>\n",
       "      <td>1.0</td>\n",
       "      <td>morning</td>\n",
       "      <td>46-60</td>\n",
       "      <td>Andorra</td>\n",
       "      <td>77265.0</td>\n",
       "      <td>470.0</td>\n",
       "      <td>164.0</td>\n",
       "    </tr>\n",
       "    <tr>\n",
       "      <th>4</th>\n",
       "      <td>33987a8ee5</td>\n",
       "      <td>http://twitpic.com/4w75p - I like it!!</td>\n",
       "      <td>1.0</td>\n",
       "      <td>noon</td>\n",
       "      <td>60-70</td>\n",
       "      <td>Angola</td>\n",
       "      <td>32866272.0</td>\n",
       "      <td>1246700.0</td>\n",
       "      <td>26.0</td>\n",
       "    </tr>\n",
       "    <tr>\n",
       "      <th>5</th>\n",
       "      <td>726e501993</td>\n",
       "      <td>that`s great!! weee!! visitors!</td>\n",
       "      <td>1.0</td>\n",
       "      <td>night</td>\n",
       "      <td>70-100</td>\n",
       "      <td>Antigua and Barbuda</td>\n",
       "      <td>97929.0</td>\n",
       "      <td>440.0</td>\n",
       "      <td>223.0</td>\n",
       "    </tr>\n",
       "  </tbody>\n",
       "</table>\n",
       "</div>"
      ],
      "text/plain": [
       "       textID                                               text  sentiment  \\\n",
       "1  96d74cb729   Shanghai is also really exciting (precisely -...        1.0   \n",
       "2  eee518ae67  Recession hit Veronique Branquinho, she has to...        0.0   \n",
       "3  01082688c6                                        happy bday!        1.0   \n",
       "4  33987a8ee5             http://twitpic.com/4w75p - I like it!!        1.0   \n",
       "5  726e501993                    that`s great!! weee!! visitors!        1.0   \n",
       "\n",
       "  Time of Tweet Age of User              Country  Population -2020  \\\n",
       "1          noon       21-30              Albania         2877797.0   \n",
       "2         night       31-45              Algeria        43851044.0   \n",
       "3       morning       46-60              Andorra           77265.0   \n",
       "4          noon       60-70               Angola        32866272.0   \n",
       "5         night      70-100  Antigua and Barbuda           97929.0   \n",
       "\n",
       "   Land Area (Km²)  Density (P/Km²)  \n",
       "1          27400.0            105.0  \n",
       "2        2381740.0             18.0  \n",
       "3            470.0            164.0  \n",
       "4        1246700.0             26.0  \n",
       "5            440.0            223.0  "
      ]
     },
     "execution_count": 14,
     "metadata": {},
     "output_type": "execute_result"
    }
   ],
   "source": [
    "df_test.head()"
   ]
  },
  {
   "cell_type": "code",
   "execution_count": 15,
   "metadata": {},
   "outputs": [],
   "source": [
    "df_test = df_test[['text', 'sentiment']]"
   ]
  },
  {
   "cell_type": "code",
   "execution_count": 16,
   "metadata": {},
   "outputs": [],
   "source": [
    "df_train['text'] = df_train['text'].str.lower()\n",
    "df_test['text'] = df_test['text'].str.lower()\n",
    "X_train = df_train['text']\n",
    "y_train = df_train['sentiment']\n",
    "X_test = df_test['text']\n",
    "y_test = df_test['sentiment']"
   ]
  },
  {
   "cell_type": "code",
   "execution_count": null,
   "metadata": {},
   "outputs": [],
   "source": []
  },
  {
   "cell_type": "code",
   "execution_count": 37,
   "metadata": {},
   "outputs": [],
   "source": [
    "import openai\n",
    "\n",
    "# Set up OpenAI API credentials\n",
    "api_key = ''\n",
    "client = OpenAI(api_key=api_key)\n",
    "\n",
    "# Function to fetch embeddings for text\n",
    "def fetch_embeddings(text):\n",
    "    response = client.embeddings.create(input=text, model='text-embedding-3-small')\n",
    "    embeddings = response.data[0].embedding\n",
    "    return embeddings\n",
    "\n"
   ]
  },
  {
   "cell_type": "code",
   "execution_count": 39,
   "metadata": {},
   "outputs": [],
   "source": [
    "# Fetch embeddings for the text in the df dataframe\n",
    "df_train['embeddings'] = df_train['text'].apply(fetch_embeddings)\n",
    "df_train.to_csv('train_embeddings.csv', index=False)\n"
   ]
  },
  {
   "cell_type": "code",
   "execution_count": 41,
   "metadata": {},
   "outputs": [
    {
     "ename": "BadRequestError",
     "evalue": "Error code: 400 - {'error': {'message': \"We could not parse the JSON body of your request. (HINT: This likely means you aren't using your HTTP library correctly. The OpenAI API expects a JSON payload, but what was sent was not valid JSON. If you have trouble figuring out how to fix this, please contact us through our help center at help.openai.com.)\", 'type': 'invalid_request_error', 'param': None, 'code': None}}",
     "output_type": "error",
     "traceback": [
      "\u001b[1;31m---------------------------------------------------------------------------\u001b[0m",
      "\u001b[1;31mBadRequestError\u001b[0m                           Traceback (most recent call last)",
      "Cell \u001b[1;32mIn[41], line 1\u001b[0m\n\u001b[1;32m----> 1\u001b[0m df_test[\u001b[38;5;124m'\u001b[39m\u001b[38;5;124membeddings\u001b[39m\u001b[38;5;124m'\u001b[39m] \u001b[38;5;241m=\u001b[39m \u001b[43mdf_test\u001b[49m\u001b[43m[\u001b[49m\u001b[38;5;124;43m'\u001b[39;49m\u001b[38;5;124;43mtext\u001b[39;49m\u001b[38;5;124;43m'\u001b[39;49m\u001b[43m]\u001b[49m\u001b[38;5;241;43m.\u001b[39;49m\u001b[43mapply\u001b[49m\u001b[43m(\u001b[49m\u001b[43mfetch_embeddings\u001b[49m\u001b[43m)\u001b[49m\n\u001b[0;32m      2\u001b[0m df_train\u001b[38;5;241m.\u001b[39mto_csv(\u001b[38;5;124m'\u001b[39m\u001b[38;5;124mtrain_embeddings.csv\u001b[39m\u001b[38;5;124m'\u001b[39m, index\u001b[38;5;241m=\u001b[39m\u001b[38;5;28;01mFalse\u001b[39;00m)\n",
      "File \u001b[1;32mc:\\Users\\Aditya Joshi\\AppData\\Local\\Programs\\Python\\Python311\\Lib\\site-packages\\pandas\\core\\series.py:4630\u001b[0m, in \u001b[0;36mSeries.apply\u001b[1;34m(self, func, convert_dtype, args, **kwargs)\u001b[0m\n\u001b[0;32m   4520\u001b[0m \u001b[38;5;28;01mdef\u001b[39;00m \u001b[38;5;21mapply\u001b[39m(\n\u001b[0;32m   4521\u001b[0m     \u001b[38;5;28mself\u001b[39m,\n\u001b[0;32m   4522\u001b[0m     func: AggFuncType,\n\u001b[1;32m   (...)\u001b[0m\n\u001b[0;32m   4525\u001b[0m     \u001b[38;5;241m*\u001b[39m\u001b[38;5;241m*\u001b[39mkwargs,\n\u001b[0;32m   4526\u001b[0m ) \u001b[38;5;241m-\u001b[39m\u001b[38;5;241m>\u001b[39m DataFrame \u001b[38;5;241m|\u001b[39m Series:\n\u001b[0;32m   4527\u001b[0m \u001b[38;5;250m    \u001b[39m\u001b[38;5;124;03m\"\"\"\u001b[39;00m\n\u001b[0;32m   4528\u001b[0m \u001b[38;5;124;03m    Invoke function on values of Series.\u001b[39;00m\n\u001b[0;32m   4529\u001b[0m \n\u001b[1;32m   (...)\u001b[0m\n\u001b[0;32m   4628\u001b[0m \u001b[38;5;124;03m    dtype: float64\u001b[39;00m\n\u001b[0;32m   4629\u001b[0m \u001b[38;5;124;03m    \"\"\"\u001b[39;00m\n\u001b[1;32m-> 4630\u001b[0m     \u001b[38;5;28;01mreturn\u001b[39;00m \u001b[43mSeriesApply\u001b[49m\u001b[43m(\u001b[49m\u001b[38;5;28;43mself\u001b[39;49m\u001b[43m,\u001b[49m\u001b[43m \u001b[49m\u001b[43mfunc\u001b[49m\u001b[43m,\u001b[49m\u001b[43m \u001b[49m\u001b[43mconvert_dtype\u001b[49m\u001b[43m,\u001b[49m\u001b[43m \u001b[49m\u001b[43margs\u001b[49m\u001b[43m,\u001b[49m\u001b[43m \u001b[49m\u001b[43mkwargs\u001b[49m\u001b[43m)\u001b[49m\u001b[38;5;241;43m.\u001b[39;49m\u001b[43mapply\u001b[49m\u001b[43m(\u001b[49m\u001b[43m)\u001b[49m\n",
      "File \u001b[1;32mc:\\Users\\Aditya Joshi\\AppData\\Local\\Programs\\Python\\Python311\\Lib\\site-packages\\pandas\\core\\apply.py:1025\u001b[0m, in \u001b[0;36mSeriesApply.apply\u001b[1;34m(self)\u001b[0m\n\u001b[0;32m   1022\u001b[0m     \u001b[38;5;28;01mreturn\u001b[39;00m \u001b[38;5;28mself\u001b[39m\u001b[38;5;241m.\u001b[39mapply_str()\n\u001b[0;32m   1024\u001b[0m \u001b[38;5;66;03m# self.f is Callable\u001b[39;00m\n\u001b[1;32m-> 1025\u001b[0m \u001b[38;5;28;01mreturn\u001b[39;00m \u001b[38;5;28;43mself\u001b[39;49m\u001b[38;5;241;43m.\u001b[39;49m\u001b[43mapply_standard\u001b[49m\u001b[43m(\u001b[49m\u001b[43m)\u001b[49m\n",
      "File \u001b[1;32mc:\\Users\\Aditya Joshi\\AppData\\Local\\Programs\\Python\\Python311\\Lib\\site-packages\\pandas\\core\\apply.py:1076\u001b[0m, in \u001b[0;36mSeriesApply.apply_standard\u001b[1;34m(self)\u001b[0m\n\u001b[0;32m   1074\u001b[0m     \u001b[38;5;28;01melse\u001b[39;00m:\n\u001b[0;32m   1075\u001b[0m         values \u001b[38;5;241m=\u001b[39m obj\u001b[38;5;241m.\u001b[39mastype(\u001b[38;5;28mobject\u001b[39m)\u001b[38;5;241m.\u001b[39m_values\n\u001b[1;32m-> 1076\u001b[0m         mapped \u001b[38;5;241m=\u001b[39m \u001b[43mlib\u001b[49m\u001b[38;5;241;43m.\u001b[39;49m\u001b[43mmap_infer\u001b[49m\u001b[43m(\u001b[49m\n\u001b[0;32m   1077\u001b[0m \u001b[43m            \u001b[49m\u001b[43mvalues\u001b[49m\u001b[43m,\u001b[49m\n\u001b[0;32m   1078\u001b[0m \u001b[43m            \u001b[49m\u001b[43mf\u001b[49m\u001b[43m,\u001b[49m\n\u001b[0;32m   1079\u001b[0m \u001b[43m            \u001b[49m\u001b[43mconvert\u001b[49m\u001b[38;5;241;43m=\u001b[39;49m\u001b[38;5;28;43mself\u001b[39;49m\u001b[38;5;241;43m.\u001b[39;49m\u001b[43mconvert_dtype\u001b[49m\u001b[43m,\u001b[49m\n\u001b[0;32m   1080\u001b[0m \u001b[43m        \u001b[49m\u001b[43m)\u001b[49m\n\u001b[0;32m   1082\u001b[0m \u001b[38;5;28;01mif\u001b[39;00m \u001b[38;5;28mlen\u001b[39m(mapped) \u001b[38;5;129;01mand\u001b[39;00m \u001b[38;5;28misinstance\u001b[39m(mapped[\u001b[38;5;241m0\u001b[39m], ABCSeries):\n\u001b[0;32m   1083\u001b[0m     \u001b[38;5;66;03m# GH#43986 Need to do list(mapped) in order to get treated as nested\u001b[39;00m\n\u001b[0;32m   1084\u001b[0m     \u001b[38;5;66;03m#  See also GH#25959 regarding EA support\u001b[39;00m\n\u001b[0;32m   1085\u001b[0m     \u001b[38;5;28;01mreturn\u001b[39;00m obj\u001b[38;5;241m.\u001b[39m_constructor_expanddim(\u001b[38;5;28mlist\u001b[39m(mapped), index\u001b[38;5;241m=\u001b[39mobj\u001b[38;5;241m.\u001b[39mindex)\n",
      "File \u001b[1;32mc:\\Users\\Aditya Joshi\\AppData\\Local\\Programs\\Python\\Python311\\Lib\\site-packages\\pandas\\_libs\\lib.pyx:2834\u001b[0m, in \u001b[0;36mpandas._libs.lib.map_infer\u001b[1;34m()\u001b[0m\n",
      "Cell \u001b[1;32mIn[37], line 10\u001b[0m, in \u001b[0;36mfetch_embeddings\u001b[1;34m(text)\u001b[0m\n\u001b[0;32m      9\u001b[0m \u001b[38;5;28;01mdef\u001b[39;00m \u001b[38;5;21mfetch_embeddings\u001b[39m(text):\n\u001b[1;32m---> 10\u001b[0m     response \u001b[38;5;241m=\u001b[39m \u001b[43mclient\u001b[49m\u001b[38;5;241;43m.\u001b[39;49m\u001b[43membeddings\u001b[49m\u001b[38;5;241;43m.\u001b[39;49m\u001b[43mcreate\u001b[49m\u001b[43m(\u001b[49m\u001b[38;5;28;43minput\u001b[39;49m\u001b[38;5;241;43m=\u001b[39;49m\u001b[43mtext\u001b[49m\u001b[43m,\u001b[49m\u001b[43m \u001b[49m\u001b[43mmodel\u001b[49m\u001b[38;5;241;43m=\u001b[39;49m\u001b[38;5;124;43m'\u001b[39;49m\u001b[38;5;124;43mtext-embedding-3-small\u001b[39;49m\u001b[38;5;124;43m'\u001b[39;49m\u001b[43m)\u001b[49m\n\u001b[0;32m     11\u001b[0m     embeddings \u001b[38;5;241m=\u001b[39m response\u001b[38;5;241m.\u001b[39mdata[\u001b[38;5;241m0\u001b[39m]\u001b[38;5;241m.\u001b[39membedding\n\u001b[0;32m     12\u001b[0m     \u001b[38;5;28;01mreturn\u001b[39;00m embeddings\n",
      "File \u001b[1;32mc:\\Users\\Aditya Joshi\\AppData\\Local\\Programs\\Python\\Python311\\Lib\\site-packages\\openai\\resources\\embeddings.py:108\u001b[0m, in \u001b[0;36mEmbeddings.create\u001b[1;34m(self, input, model, encoding_format, user, extra_headers, extra_query, extra_body, timeout)\u001b[0m\n\u001b[0;32m    102\u001b[0m         embedding\u001b[38;5;241m.\u001b[39membedding \u001b[38;5;241m=\u001b[39m np\u001b[38;5;241m.\u001b[39mfrombuffer(  \u001b[38;5;66;03m# type: ignore[no-untyped-call]\u001b[39;00m\n\u001b[0;32m    103\u001b[0m             base64\u001b[38;5;241m.\u001b[39mb64decode(data), dtype\u001b[38;5;241m=\u001b[39m\u001b[38;5;124m\"\u001b[39m\u001b[38;5;124mfloat32\u001b[39m\u001b[38;5;124m\"\u001b[39m\n\u001b[0;32m    104\u001b[0m         )\u001b[38;5;241m.\u001b[39mtolist()\n\u001b[0;32m    106\u001b[0m     \u001b[38;5;28;01mreturn\u001b[39;00m obj\n\u001b[1;32m--> 108\u001b[0m \u001b[38;5;28;01mreturn\u001b[39;00m \u001b[38;5;28;43mself\u001b[39;49m\u001b[38;5;241;43m.\u001b[39;49m\u001b[43m_post\u001b[49m\u001b[43m(\u001b[49m\n\u001b[0;32m    109\u001b[0m \u001b[43m    \u001b[49m\u001b[38;5;124;43m\"\u001b[39;49m\u001b[38;5;124;43m/embeddings\u001b[39;49m\u001b[38;5;124;43m\"\u001b[39;49m\u001b[43m,\u001b[49m\n\u001b[0;32m    110\u001b[0m \u001b[43m    \u001b[49m\u001b[43mbody\u001b[49m\u001b[38;5;241;43m=\u001b[39;49m\u001b[43mmaybe_transform\u001b[49m\u001b[43m(\u001b[49m\u001b[43mparams\u001b[49m\u001b[43m,\u001b[49m\u001b[43m \u001b[49m\u001b[43membedding_create_params\u001b[49m\u001b[38;5;241;43m.\u001b[39;49m\u001b[43mEmbeddingCreateParams\u001b[49m\u001b[43m)\u001b[49m\u001b[43m,\u001b[49m\n\u001b[0;32m    111\u001b[0m \u001b[43m    \u001b[49m\u001b[43moptions\u001b[49m\u001b[38;5;241;43m=\u001b[39;49m\u001b[43mmake_request_options\u001b[49m\u001b[43m(\u001b[49m\n\u001b[0;32m    112\u001b[0m \u001b[43m        \u001b[49m\u001b[43mextra_headers\u001b[49m\u001b[38;5;241;43m=\u001b[39;49m\u001b[43mextra_headers\u001b[49m\u001b[43m,\u001b[49m\n\u001b[0;32m    113\u001b[0m \u001b[43m        \u001b[49m\u001b[43mextra_query\u001b[49m\u001b[38;5;241;43m=\u001b[39;49m\u001b[43mextra_query\u001b[49m\u001b[43m,\u001b[49m\n\u001b[0;32m    114\u001b[0m \u001b[43m        \u001b[49m\u001b[43mextra_body\u001b[49m\u001b[38;5;241;43m=\u001b[39;49m\u001b[43mextra_body\u001b[49m\u001b[43m,\u001b[49m\n\u001b[0;32m    115\u001b[0m \u001b[43m        \u001b[49m\u001b[43mtimeout\u001b[49m\u001b[38;5;241;43m=\u001b[39;49m\u001b[43mtimeout\u001b[49m\u001b[43m,\u001b[49m\n\u001b[0;32m    116\u001b[0m \u001b[43m        \u001b[49m\u001b[43mpost_parser\u001b[49m\u001b[38;5;241;43m=\u001b[39;49m\u001b[43mparser\u001b[49m\u001b[43m,\u001b[49m\n\u001b[0;32m    117\u001b[0m \u001b[43m    \u001b[49m\u001b[43m)\u001b[49m\u001b[43m,\u001b[49m\n\u001b[0;32m    118\u001b[0m \u001b[43m    \u001b[49m\u001b[43mcast_to\u001b[49m\u001b[38;5;241;43m=\u001b[39;49m\u001b[43mCreateEmbeddingResponse\u001b[49m\u001b[43m,\u001b[49m\n\u001b[0;32m    119\u001b[0m \u001b[43m\u001b[49m\u001b[43m)\u001b[49m\n",
      "File \u001b[1;32mc:\\Users\\Aditya Joshi\\AppData\\Local\\Programs\\Python\\Python311\\Lib\\site-packages\\openai\\_base_client.py:1167\u001b[0m, in \u001b[0;36mSyncAPIClient.post\u001b[1;34m(self, path, cast_to, body, options, files, stream, stream_cls)\u001b[0m\n\u001b[0;32m   1153\u001b[0m \u001b[38;5;28;01mdef\u001b[39;00m \u001b[38;5;21mpost\u001b[39m(\n\u001b[0;32m   1154\u001b[0m     \u001b[38;5;28mself\u001b[39m,\n\u001b[0;32m   1155\u001b[0m     path: \u001b[38;5;28mstr\u001b[39m,\n\u001b[1;32m   (...)\u001b[0m\n\u001b[0;32m   1162\u001b[0m     stream_cls: \u001b[38;5;28mtype\u001b[39m[_StreamT] \u001b[38;5;241m|\u001b[39m \u001b[38;5;28;01mNone\u001b[39;00m \u001b[38;5;241m=\u001b[39m \u001b[38;5;28;01mNone\u001b[39;00m,\n\u001b[0;32m   1163\u001b[0m ) \u001b[38;5;241m-\u001b[39m\u001b[38;5;241m>\u001b[39m ResponseT \u001b[38;5;241m|\u001b[39m _StreamT:\n\u001b[0;32m   1164\u001b[0m     opts \u001b[38;5;241m=\u001b[39m FinalRequestOptions\u001b[38;5;241m.\u001b[39mconstruct(\n\u001b[0;32m   1165\u001b[0m         method\u001b[38;5;241m=\u001b[39m\u001b[38;5;124m\"\u001b[39m\u001b[38;5;124mpost\u001b[39m\u001b[38;5;124m\"\u001b[39m, url\u001b[38;5;241m=\u001b[39mpath, json_data\u001b[38;5;241m=\u001b[39mbody, files\u001b[38;5;241m=\u001b[39mto_httpx_files(files), \u001b[38;5;241m*\u001b[39m\u001b[38;5;241m*\u001b[39moptions\n\u001b[0;32m   1166\u001b[0m     )\n\u001b[1;32m-> 1167\u001b[0m     \u001b[38;5;28;01mreturn\u001b[39;00m cast(ResponseT, \u001b[38;5;28;43mself\u001b[39;49m\u001b[38;5;241;43m.\u001b[39;49m\u001b[43mrequest\u001b[49m\u001b[43m(\u001b[49m\u001b[43mcast_to\u001b[49m\u001b[43m,\u001b[49m\u001b[43m \u001b[49m\u001b[43mopts\u001b[49m\u001b[43m,\u001b[49m\u001b[43m \u001b[49m\u001b[43mstream\u001b[49m\u001b[38;5;241;43m=\u001b[39;49m\u001b[43mstream\u001b[49m\u001b[43m,\u001b[49m\u001b[43m \u001b[49m\u001b[43mstream_cls\u001b[49m\u001b[38;5;241;43m=\u001b[39;49m\u001b[43mstream_cls\u001b[49m\u001b[43m)\u001b[49m)\n",
      "File \u001b[1;32mc:\\Users\\Aditya Joshi\\AppData\\Local\\Programs\\Python\\Python311\\Lib\\site-packages\\openai\\_base_client.py:856\u001b[0m, in \u001b[0;36mSyncAPIClient.request\u001b[1;34m(self, cast_to, options, remaining_retries, stream, stream_cls)\u001b[0m\n\u001b[0;32m    847\u001b[0m \u001b[38;5;28;01mdef\u001b[39;00m \u001b[38;5;21mrequest\u001b[39m(\n\u001b[0;32m    848\u001b[0m     \u001b[38;5;28mself\u001b[39m,\n\u001b[0;32m    849\u001b[0m     cast_to: Type[ResponseT],\n\u001b[1;32m   (...)\u001b[0m\n\u001b[0;32m    854\u001b[0m     stream_cls: \u001b[38;5;28mtype\u001b[39m[_StreamT] \u001b[38;5;241m|\u001b[39m \u001b[38;5;28;01mNone\u001b[39;00m \u001b[38;5;241m=\u001b[39m \u001b[38;5;28;01mNone\u001b[39;00m,\n\u001b[0;32m    855\u001b[0m ) \u001b[38;5;241m-\u001b[39m\u001b[38;5;241m>\u001b[39m ResponseT \u001b[38;5;241m|\u001b[39m _StreamT:\n\u001b[1;32m--> 856\u001b[0m     \u001b[38;5;28;01mreturn\u001b[39;00m \u001b[38;5;28;43mself\u001b[39;49m\u001b[38;5;241;43m.\u001b[39;49m\u001b[43m_request\u001b[49m\u001b[43m(\u001b[49m\n\u001b[0;32m    857\u001b[0m \u001b[43m        \u001b[49m\u001b[43mcast_to\u001b[49m\u001b[38;5;241;43m=\u001b[39;49m\u001b[43mcast_to\u001b[49m\u001b[43m,\u001b[49m\n\u001b[0;32m    858\u001b[0m \u001b[43m        \u001b[49m\u001b[43moptions\u001b[49m\u001b[38;5;241;43m=\u001b[39;49m\u001b[43moptions\u001b[49m\u001b[43m,\u001b[49m\n\u001b[0;32m    859\u001b[0m \u001b[43m        \u001b[49m\u001b[43mstream\u001b[49m\u001b[38;5;241;43m=\u001b[39;49m\u001b[43mstream\u001b[49m\u001b[43m,\u001b[49m\n\u001b[0;32m    860\u001b[0m \u001b[43m        \u001b[49m\u001b[43mstream_cls\u001b[49m\u001b[38;5;241;43m=\u001b[39;49m\u001b[43mstream_cls\u001b[49m\u001b[43m,\u001b[49m\n\u001b[0;32m    861\u001b[0m \u001b[43m        \u001b[49m\u001b[43mremaining_retries\u001b[49m\u001b[38;5;241;43m=\u001b[39;49m\u001b[43mremaining_retries\u001b[49m\u001b[43m,\u001b[49m\n\u001b[0;32m    862\u001b[0m \u001b[43m    \u001b[49m\u001b[43m)\u001b[49m\n",
      "File \u001b[1;32mc:\\Users\\Aditya Joshi\\AppData\\Local\\Programs\\Python\\Python311\\Lib\\site-packages\\openai\\_base_client.py:947\u001b[0m, in \u001b[0;36mSyncAPIClient._request\u001b[1;34m(self, cast_to, options, remaining_retries, stream, stream_cls)\u001b[0m\n\u001b[0;32m    944\u001b[0m         err\u001b[38;5;241m.\u001b[39mresponse\u001b[38;5;241m.\u001b[39mread()\n\u001b[0;32m    946\u001b[0m     log\u001b[38;5;241m.\u001b[39mdebug(\u001b[38;5;124m\"\u001b[39m\u001b[38;5;124mRe-raising status error\u001b[39m\u001b[38;5;124m\"\u001b[39m)\n\u001b[1;32m--> 947\u001b[0m     \u001b[38;5;28;01mraise\u001b[39;00m \u001b[38;5;28mself\u001b[39m\u001b[38;5;241m.\u001b[39m_make_status_error_from_response(err\u001b[38;5;241m.\u001b[39mresponse) \u001b[38;5;28;01mfrom\u001b[39;00m \u001b[38;5;28;01mNone\u001b[39;00m\n\u001b[0;32m    949\u001b[0m \u001b[38;5;28;01mreturn\u001b[39;00m \u001b[38;5;28mself\u001b[39m\u001b[38;5;241m.\u001b[39m_process_response(\n\u001b[0;32m    950\u001b[0m     cast_to\u001b[38;5;241m=\u001b[39mcast_to,\n\u001b[0;32m    951\u001b[0m     options\u001b[38;5;241m=\u001b[39moptions,\n\u001b[1;32m   (...)\u001b[0m\n\u001b[0;32m    954\u001b[0m     stream_cls\u001b[38;5;241m=\u001b[39mstream_cls,\n\u001b[0;32m    955\u001b[0m )\n",
      "\u001b[1;31mBadRequestError\u001b[0m: Error code: 400 - {'error': {'message': \"We could not parse the JSON body of your request. (HINT: This likely means you aren't using your HTTP library correctly. The OpenAI API expects a JSON payload, but what was sent was not valid JSON. If you have trouble figuring out how to fix this, please contact us through our help center at help.openai.com.)\", 'type': 'invalid_request_error', 'param': None, 'code': None}}"
     ]
    }
   ],
   "source": [
    "df_test['embeddings'] = df_test['text'].apply(fetch_embeddings)\n",
    "df_train.to_csv('train_embeddings.csv', index=False)"
   ]
  },
  {
   "cell_type": "code",
   "execution_count": 30,
   "metadata": {},
   "outputs": [
    {
     "name": "stdout",
     "output_type": "stream",
     "text": [
      "[0.005168174393475056, 0.017187591642141342, -0.01868520863354206, -0.01855923980474472, -0.047251880168914795, -0.03028823249042034, 0.027670903131365776, 0.0036775567568838596, 0.011253113858401775, 0.0064068567007780075, -0.0016953152371570468, 0.015801947563886642, -0.0013007913948968053, -0.007872981019318104, 0.059904634952545166, 0.05024711415171623, -0.027516942471265793, 0.00992345530539751, -0.0403936393558979, 0.050051163882017136, -0.0004255783569533378, 0.030232246965169907, -0.01368848979473114, 0.03291955590248108, 0.017299562692642212, 0.016795692965388298, -0.0017547999741509557, 0.020434759557247162, 0.0407855398952961, -0.03770633041858673, -0.02611730247735977, -0.04999517649412155, 0.024185797199606895, -0.055257827043533325, -0.03224772959947586, 0.04235313832759857, 0.06466341763734818, 0.014724223874509335, -0.01564798690378666, -0.04140138253569603, 0.022198306396603584, 0.0073411171324551105, 0.044956471771001816, 0.007106677163392305, -0.024087822064757347, 0.0524025596678257, -0.020084848627448082, -0.03224772959947586, 0.01622183993458748, 0.04641209542751312, 0.02377990074455738, -0.018867161124944687, -0.005353626795113087, 0.04397672042250633, -0.00617241719737649, 0.007327120751142502, -0.014948165975511074, 0.0726693645119667, -0.005486592650413513, -0.03767833486199379, 0.016081875190138817, 0.034263212233781815, 0.007110176607966423, -0.0047482820227742195, -0.02667715772986412, 0.028944576159119606, -0.0385461151599884, 0.02320604771375656, -0.005143680609762669, 0.011903947219252586, 0.02551545575261116, -0.014612252824008465, -0.011113150045275688, 0.0038000254426151514, 0.0006403357838280499, -0.023262033239006996, -0.016291821375489235, -0.004370379261672497, 0.020714687183499336, -0.004202422220259905, 0.04025367647409439, -0.0028360227588564157, -0.025347499176859856, -0.02016882784664631, -0.04820363596081734, 0.0206587016582489, -0.07558061927556992, 0.02795083075761795, -0.017075620591640472, 0.0082998713478446, -0.01833529770374298, -0.01206490583717823, -0.022590206936001778, -0.007075185421854258, -0.01588592492043972, 0.005553075578063726, -0.032751601189374924, 0.004114944487810135, -0.0058504994958639145, -0.038462135940790176, 0.04711191728711128, -0.012036913074553013, -0.02005685679614544, 0.0026435719337314367, -0.0315479077398777, 0.011134144850075245, 0.01195293478667736, -0.0024266275577247143, -0.046803995966911316, -0.0213165320456028, -0.08532211929559708, 0.007229146081954241, 0.006235400680452585, 0.020602716132998466, 0.0012946679489687085, 0.004223417025059462, 0.06886234134435654, -0.014514277689158916, 0.021722428500652313, -0.022646192461252213, 0.02529151365160942, -0.0028272748459130526, 0.031827837228775024, -0.05690940469503403, 0.0036705585662275553, -0.041009481996297836, 0.005637054331600666, -0.035550881177186966, -0.03795826435089111, 0.015466033481061459, 0.021246550604701042, -0.04856754466891289, -0.011176133528351784, -0.00934260431677103, -0.05021911859512329, -0.007124172989279032, -0.045852240175008774, 0.041233424097299576, -0.03051217459142208, 0.04268905147910118, -0.015410047955811024, -0.029756369069218636, -0.003318898845463991, -0.011617020703852177, -0.024647679179906845, -0.01832130178809166, -0.0322757214307785, -0.0061409249901771545, -0.024269776418805122, 0.018713200464844704, -0.03557887673377991, 0.03479507565498352, -0.06634298712015152, 0.03401127830147743, 0.027069058269262314, -0.013898435048758984, 0.02620127983391285, -0.02445172891020775, -0.04442460462450981, 0.004734285641461611, -0.021778414025902748, -0.05707736313343048, -0.004993219394236803, 0.013464546762406826, -0.033479414880275726, -0.04602019861340523, 0.03790228068828583, 0.0243537537753582, -0.043668799102306366, 0.023276031017303467, -0.01311463676393032, -0.041009481996297836, -0.04926736280322075, -0.005462099332362413, -0.00870576687157154, 0.04212919622659683, 0.02123255468904972, -0.010077415034174919, -0.021400511264801025, 0.04834360256791115, 0.021064598113298416, 0.04050561040639877, 0.008215893059968948, -0.00869876891374588, -0.0041184439323842525, -0.0066657904535532, 0.036922529339790344, 0.0229681096971035, 0.008103922009468079, -0.013268597424030304, 0.007949961349368095, -0.00579451397061348, 0.019441014155745506, 0.0011319597251713276, -0.01925905980169773, 0.02074268087744713, 0.03434719145298004, -0.013639502227306366, 0.03991776332259178, 0.06662291288375854, 0.03594278171658516, 0.06359969079494476, -0.02459169365465641, -0.005070199724286795, -0.08577000349760056, -0.028832605108618736, -0.044704534113407135, 0.015130119398236275, 0.013184618204832077, 0.02611730247735977, 0.09120061248540878, -0.019566981121897697, -0.009328607469797134, -0.019902896136045456, -0.05033109337091446, -0.03793027251958847, 0.003481607185676694, 0.019315047189593315, 0.01234483439475298, -0.061080336570739746, -0.01830730400979519, 0.02944844774901867, 0.06007259339094162, 0.024983592331409454, 0.028468698263168335, 0.007222147658467293, 0.025235528126358986, 0.02225429192185402, -0.0032034283503890038, 0.03605475276708603, 0.03776231408119202, -0.026859112083911896, 0.009580543264746666, -0.03770633041858673, 0.0233320165425539, 0.015158112160861492, 0.00032213612576015294, -0.010287361219525337, 0.021400511264801025, 0.0192730575799942, -0.07182957977056503, -0.02538948878645897, 0.08033939450979233, 0.045740269124507904, 0.020000871270895004, -0.015703972429037094, -0.024045832455158234, -0.027209021151065826, 0.02611730247735977, 0.03605475276708603, 0.02182040363550186, 0.01575995795428753, 0.02054673060774803, -0.0035708341747522354, 0.025935348123311996, -0.017439527437090874, -0.02054673060774803, 0.031016046181321144, 0.04781173914670944, -0.04198922961950302, -0.03328346461057663, -0.03423522040247917, -0.037734322249889374, -0.0024948602076619864, -0.004174429457634687, -0.0003934303531423211, 0.02515154890716076, 0.0038595101796090603, -0.00045007208245806396, -0.03837815672159195, -0.04221317544579506, -0.004646808374673128, 0.028090795502066612, 0.040869519114494324, -0.033115506172180176, 0.06617502868175507, -0.010875211097300053, -0.02054673060774803, -0.002920001046732068, 0.019636964425444603, -0.0426330640912056, 0.011288104578852654, 0.010812226682901382, -0.018615225329995155, -0.029028555378317833, -0.0216804388910532, 0.028370723128318787, -0.003065213793888688, 0.009804485365748405, 0.021064598113298416, 0.0027835362125188112, -0.032415688037872314, 0.022422248497605324, -0.008341860957443714, -0.027041064575314522, 0.0385461151599884, -0.018041372299194336, 0.02424178272485733, 0.01340156327933073, 0.0524025596678257, 0.030344218015670776, 0.05377420783042908, 0.004538335837423801, 0.0027275504544377327, -0.02460568957030773, 0.017467519268393517, 0.03398328274488449, -0.02320604771375656, 0.044368620961904526, -0.013940424658358097, 0.015494026243686676, -0.027558932080864906, -0.0043773772194981575, -0.034627120941877365, -0.07513272762298584, -0.010455318726599216, 0.06343173235654831, 0.021946370601654053, -0.041009481996297836, -0.05195467546582222, 0.05262650176882744, -0.019524993374943733, 0.0415133535861969, -0.00646634167060256, 0.005122686270624399, 0.04288500174880028, 0.05299041047692299, 0.01577395386993885, 0.014486284926533699, -0.010462316684424877, 0.017915405333042145, -0.0723334476351738, 0.026397230103611946, -0.01612386479973793, 0.0026260765735059977, -0.01218387484550476, 0.001148580457083881, 0.02028079889714718, 0.04047761857509613, 0.04630012437701225, -0.005742027424275875, -0.023639937862753868, 0.015116123482584953, 0.008824736811220646, -0.0067602661438286304, -0.03291955590248108, -0.03515898436307907, 0.04789571464061737, 0.006441847886890173, 0.011631016619503498, 0.007075185421854258, 0.028258752077817917, 0.02736298181116581, -0.04190525412559509, 0.043668799102306366, -0.08073129504919052, -0.01983291283249855, 0.01177098136395216, 0.009125659242272377, 0.008376851677894592, -0.024507714435458183, -0.011337092146277428, 0.0179853867739439, 0.006130427587777376, -0.009769494645297527, 0.04814765229821205, -0.020378774031996727, -0.0030547166243195534, 0.04232514649629593, -0.025375492870807648, -0.004205921199172735, 0.003625070210546255, 0.02285613864660263, 0.013030658476054668, -0.05125485360622406, 0.0028272748459130526, -0.03373134881258011, 0.041121453046798706, 0.03096005879342556, 0.007327120751142502, -0.03168787434697151, 0.027069058269262314, -0.04179328307509422, -0.016291821375489235, 0.025921352207660675, -0.008432837203145027, 0.006840745452791452, 0.028230760246515274, -0.037986256182193756, 0.00974849984049797, 0.03168787434697151, 0.01409438531845808, -0.014654241502285004, 0.028608663007616997, -0.04800768569111824, 0.03664260357618332, 0.006914226803928614, 0.010798230767250061, 0.03342342749238014, -0.04823163151741028, 0.07843588292598724, -0.014808202162384987, -0.00869177095592022, -0.040057726204395294, -0.039161957800388336, 0.005070199724286795, -0.04490048438310623, -0.033479414880275726, 0.004937233868986368, -0.030820095911622047, 0.05648951232433319, -0.03084808774292469, 0.038910020142793655, 0.012120891362428665, -0.0009473820100538433, 0.04406069964170456, 0.007152165751904249, 0.009020686149597168, 0.015508023090660572, -0.007313124369829893, -0.009699512273073196, -0.024395743384957314, -0.03350740671157837, -0.026845114305615425, 0.0010234875371679664, 0.05181471258401871, 0.0015815943479537964, -0.05800112336874008, 0.028832605108618736, -0.06707079708576202, -0.012218866497278214, -0.014920173212885857, 0.01784542389214039, -0.001089095720089972, -0.014990155585110188, -0.043892741203308105, -0.008460829965770245, 0.02622927352786064, -0.030204253271222115, -0.0179853867739439, -0.011176133528351784, 0.021274544298648834, -0.04630012437701225, -0.014010407030582428, 0.005633555352687836, 0.010000435635447502, 0.05475395917892456, 0.028104791417717934, -0.027293000370264053, -0.02723701484501362, 0.015312072820961475, -0.024983592331409454, -0.050722990185022354, -0.020098844543099403, 0.027782874181866646, 0.012393821030855179, 0.042605072259902954, 0.02387787587940693, -0.009888463653624058, -0.02387787587940693, -0.007271135225892067, -0.0033608879894018173, -0.03342342749238014, -0.028020814061164856, -0.008250883780419827, -0.038210202008485794, -0.00996544398367405, 0.03188382461667061, 0.0594007670879364, -0.028090795502066612, -0.01911909691989422, 0.03515898436307907, 0.03737041726708412, 0.026355240494012833, 0.004632811993360519, -0.03664260357618332, 0.013814456760883331, -0.014948165975511074, -0.019972877576947212, -0.011498050764203072, -0.0001823907223297283, 0.035886794328689575, -0.03028823249042034, 0.027516942471265793, -0.025445474311709404, 0.10413329303264618, -0.029616404324769974, -0.01305165234953165, -0.0019367532804608345, -0.00444036116823554, -0.04187725856900215, 0.0009141405462287366, 0.03767833486199379, -0.016067879274487495, -0.02425577864050865, -0.02853868156671524, -0.013870442286133766, -0.017425531521439552, 0.011120148003101349, -0.03686654567718506, 0.01867121085524559, 0.003038970520719886, 0.0046678027138113976, 0.03804224357008934, 0.025221532210707664, 0.008943705819547176, -0.030904073268175125, 0.012519788928329945, 0.02888859063386917, 0.02273016981780529, 0.012841706164181232, -0.018279312178492546, 0.010560291819274426, -0.008040937595069408, -0.0018807676387950778, 0.04560030624270439, 0.01402440294623375, 0.00986047089099884, -0.01119013037532568, -0.03557887673377991, -0.014108381234109402, 0.012274852022528648, 0.02888859063386917, -0.04624414071440697, -0.0030564661137759686, -0.043668799102306366, -0.020812662318348885, -0.055481769144535065, 0.025809381157159805, -0.0035900792572647333, -0.013905433937907219, -0.010952191427350044, 0.042493101209402084, 0.002283164532855153, -0.006504831835627556, -0.007656036410480738, -0.0037650344893336296, 0.002624326851218939, 0.03373134881258011, 0.025011586025357246, 0.023248037323355675, 0.013408561237156391, 0.010371340438723564, -0.01286969892680645, -0.04338887333869934, 0.015550011768937111, -0.0106092793866992, -0.004685298539698124, 0.005923980847001076, 0.012414815835654736, -0.008306869305670261, -0.019301049411296844, 0.002344398759305477, 0.015270084142684937, 0.018055370077490807, 0.00955954845994711, -0.026747141033411026, -0.01589992269873619, 0.007663034833967686, 0.02620127983391285, 0.02284214086830616, -0.0008739008917473257, 0.002947994042187929, 0.005633555352687836, -0.03818220645189285, 0.020210817456245422, -0.0063018836081027985, 0.05002317205071449, 0.054446037858724594, 0.010812226682901382, -0.0025176042690873146, 0.007099679205566645, -0.05727330967783928, 0.026005329564213753, 0.033591385930776596, -0.038798049092292786, -0.00934260431677103, 0.03255565091967583, -0.015955908223986626, -0.020714687183499336, 0.002690809778869152, 0.012393821030855179, 0.014003408141434193, 0.01043432392179966, -0.04397672042250633, 0.013296590186655521, -0.0017233079997822642, -0.03700650855898857, 0.004034465178847313, 0.014514277689158916, 0.047139909118413925, -0.01188295241445303, 0.008495820686221123, 0.052262596786022186, 0.01130909938365221, -0.028720634058117867, -0.008663778193295002, -0.03465511277318001, -0.016879670321941376, 0.0162358358502388, -0.00857979990541935, -0.029840346425771713, 0.02086864784359932, -0.04212919622659683, 0.018251318484544754, 0.001769671100191772, -0.018363289535045624, -0.0017950396286323667, 0.00986047089099884, -0.027530938386917114, -0.04114944487810135, -0.0016008394304662943, -0.009230632334947586, -0.0284127127379179, 0.0040134708397090435, 0.0171595998108387, -0.006130427587777376, 0.011218123137950897, -0.007984952069818974, -0.01972094178199768, 0.008390847593545914, 0.004961727652698755, 0.0165997426956892, -0.0021659445483237505, -0.03336744382977486, 0.0013436553999781609, 0.011148140765726566, -0.03280758485198021, 0.01785941980779171, 0.005486592650413513, 0.013667494989931583, 0.03336744382977486, 0.0110221728682518, -0.028244756162166595, -0.007656036410480738, -0.03420722857117653, 0.05494990572333336, 0.0018405279843136668, -0.009174646809697151, -0.0175235066562891, 0.011141142807900906, -0.027334989979863167, 0.029392462223768234, -0.013765469193458557, 0.00017659533477853984, 0.027320992201566696, 0.008551807142794132, 0.039161957800388336, 0.011099153198301792, 0.0002982984879054129, 0.006616802886128426, 0.02992432564496994, 0.026747141033411026, -0.0005882866098545492, 0.0025718403048813343, 0.02459169365465641, -0.021638451144099236, -0.02839871682226658, -0.004475352354347706, -0.02470366470515728, 0.004618815612047911, 0.0266631618142128, -0.007180158514529467, -0.02956041879951954, -0.011980927549302578, -0.0008109170012176037, -0.03420722857117653, -0.015689976513385773, 0.012631759978830814, -0.009832478128373623, -0.0074110995046794415, 0.03417923301458359, 0.020966622978448868, 0.021134579554200172, -0.005626556929200888, 0.013065649196505547, -0.02285613864660263, -0.051282849162817, 0.010357343591749668, 0.0061164312064647675, -4.13058114645537e-05, 0.03233170881867409, -0.012120891362428665, -0.010560291819274426, 0.013121634721755981, -0.002689060289412737, 0.03639066591858864, -0.008460829965770245, 0.010560291819274426, 0.012526786886155605, -0.020126838237047195, -0.0189091507345438, 0.006137426011264324, 0.0054795946925878525, 0.027796870097517967, -0.003289156360551715, 0.013177620247006416, 0.004324890673160553, -0.008887720294296741, -0.05181471258401871, -0.009517558850347996, 0.004471852909773588, -0.005759522784501314, 0.025711406022310257, -0.0007343741599470377, -0.04310894384980202, -0.0040939501486718655, -0.02016882784664631, 0.051534783095121384, 0.0077750058844685555, 0.009482568129897118, -0.018391283228993416, -0.010182388126850128, -0.00012170316040283069, -0.009265623986721039, -0.0065748137421905994, 0.006798756308853626, -0.027069058269262314, -0.016991641372442245, -0.029392462223768234, 0.003269911278039217, 0.02611730247735977, 0.009104665368795395, -0.015088130719959736, -0.011141142807900906, -0.01948300376534462, 0.009048678912222385, 0.0014328825054690242, -0.0022446743678301573, 0.029364468529820442, 0.005280145909637213, 0.03541091829538345, 0.00298823369666934, 0.029392462223768234, -0.005073698703199625, 0.00501421419903636, -0.03157590329647064, -0.06085639074444771, -0.013079645112156868, -0.019063111394643784, -0.0341232493519783, -0.015508023090660572, 0.018531247973442078, 0.03538292646408081, -0.01808336190879345, 0.007071686442941427, 0.00376853346824646, -0.011239117942750454, -0.03314349800348282, -0.0119949234649539, -0.01876918599009514, 0.012778722681105137, 0.0010995930060744286, -0.022884130477905273, -0.011931939981877804, -0.0018300306983292103, 0.011812970042228699, 0.019343039020895958, 0.03594278171658516, -0.0035778323654085398, -0.009629529900848866, 0.014626248739659786, 0.009706510230898857, 0.026299254968762398, -0.0605204775929451, -0.012316840700805187, -0.0026400729548186064, 0.017299562692642212, -0.0021519481670111418, 0.010973185300827026, 0.02387787587940693, -0.04842757806181908, -0.012099896557629108, -0.00851681549102068, 0.022338271141052246, -0.02642522193491459, -0.08011545240879059, 0.036138731986284256, 0.02134452573955059, 0.012841706164181232, -0.0017241827445104718, -0.009027685038745403, -0.004321391694247723, 0.0006412105285562575, 0.012484798207879066, -0.048287615180015564, 0.033703356981277466, -0.004580325447022915, 0.010049422271549702, -0.028244756162166595, -0.01304465439170599, 0.0018177838064730167, 0.013933426700532436, -0.017453523352742195, -0.008712765760719776, -0.009335605427622795, -0.005731530021876097, -0.051086898893117905, -0.004405369982123375, 0.019678952172398567, -0.021652447059750557, -0.02956041879951954, -0.008187900297343731, 0.0175235066562891, 0.034963034093379974, 0.004020468797534704, -0.01819533295929432, 0.04711191728711128, -0.017929401248693466, -0.015130119398236275, 0.06080040708184242, 0.015703972429037094, -0.02866464853286743, 0.0407855398952961, -0.007173160091042519, -0.006529325619339943, -0.03661460801959038, -0.031827837228775024, 0.015424043871462345, 0.020966622978448868, 0.014486284926533699, -0.03398328274488449, -0.023583952337503433, -0.0031369454227387905, 0.017131606116890907, 0.024857625365257263, -0.00381402182392776, 0.018293308094143867, -0.0038000254426151514, -0.025683412328362465, -0.014458292163908482, -0.021876389160752296, 0.0003514411218930036, -0.013177620247006416, -0.00298823369666934, 0.02365393377840519, -0.003313650144264102, -0.003831517416983843, -0.0440886914730072, -0.01809735782444477, 0.053298331797122955, -0.006693783216178417, 0.04417267069220543, 0.0082998713478446, -0.011526043526828289, -0.000714691705070436, -0.02156846784055233, 0.007292129565030336, 0.015675978735089302, 0.039497870951890945, 0.011700998991727829, -0.035662852227687836, 0.020672697573900223, -0.04652406647801399, -0.02018282376229763, 0.006424352526664734, 0.0031631886959075928, 0.001687442185357213, -0.02123255468904972, -0.041009481996297836, 0.00985347293317318, 0.0031999293714761734, 0.007061189040541649, -0.05430607125163078, 0.027684899047017097, 0.023569954559206963, 5.519287515198812e-05, 0.009048678912222385, 0.045292384922504425, 0.008264880627393723, -0.0031666879076510668, 0.022408252581954002, -0.010119404643774033, -0.011064162477850914, 0.02294011600315571, 0.032051779329776764, 0.0171595998108387, 0.034739091992378235, 0.036362674087285995, 0.00852381344884634, 0.042968980967998505, 0.00015286704001482576, 0.0051016914658248425, -0.0030757111962884665, -0.02688710391521454, -0.0002619953011162579, 0.028944576159119606, 0.0741809755563736, 0.024661675095558167, 0.010994180105626583, 0.011617020703852177, -0.02622927352786064, -0.03790228068828583, 0.00176179816480726, -0.021708432585000992, -0.014129376038908958, -0.007194154895842075, 0.03818220645189285, 0.0069772107526659966, 0.0010619775857776403, -0.0008480949909426272, -0.011267110705375671, 0.0031596897169947624, 0.00899269338697195, -0.005986964330077171, -0.01900712586939335, -0.05150679126381874, -0.017551498487591743, -0.003002230077981949, 0.029756369069218636, 0.012652754783630371, -0.04198922961950302, 0.04568428173661232, 0.00852381344884634, -0.009531555697321892, -0.006126928608864546, -0.04565628990530968, 0.0026365737430751324, -0.003143943613395095, 0.020588720217347145, -0.05383019521832466, -0.02352796494960785, 0.0012264354154467583, -0.03221973776817322, -0.008222891017794609, -0.008922711946070194, -0.0068827345967292786, -0.003129947232082486, 0.007572058122605085, 0.01984691061079502, -0.0031964301597326994, 0.004163932055234909, -0.02236626297235489, -0.0066657904535532, 0.028566673398017883, -0.008950704708695412, -0.0006648295093327761, 0.01820933073759079, -0.002279665321111679, 0.016753703355789185, -0.0270270686596632, 0.014752216637134552, 0.0059309788048267365, -0.00646634167060256, -0.006158420350402594, -0.039945755153894424, -0.03969382122159004, -0.004951230250298977, 0.0162358358502388, -0.031239988282322884, -0.02900056168437004, -0.042829014360904694, -0.015396051108837128, -0.02726500667631626, 0.0035533385816961527, -0.004716790281236172, 0.025375492870807648, -0.0075090741738677025, 0.020448755472898483, -0.006735772360116243, -0.026649165898561478, 0.007754011545330286, -0.014234349131584167, -0.014010407030582428, 0.01683768257498741, -0.004160433076322079, -0.006277389824390411, -0.008194898255169392, -0.020000871270895004, -0.004559330642223358, -0.02225429192185402, 0.024899613112211227, 0.011547038331627846, 0.06102434918284416, -0.035242959856987, 0.013261598534882069, 0.03499102592468262, 0.011945935897529125, -0.031603895127773285, -0.0440886914730072, 0.0060359518975019455, 0.032779593020677567, -0.014514277689158916, -0.002862266032025218, 0.007558061741292477, -0.011365084908902645, 0.03479507565498352, 0.0028500191401690245, -0.014472288079559803, 0.02075667679309845, -0.007663034833967686, 0.02147049270570278, -0.024843627586960793, 0.05626557022333145, 0.030876081436872482, -0.01275072991847992, -0.022128324955701828, 0.03003629669547081, -0.002442373661324382, 0.0017967892345041037, 0.012260855175554752, -0.00646984064951539, 0.01345054991543293, -0.0726693645119667, 0.0015903421444818377, 0.011274108663201332, -0.010413329117000103, 0.03918994963169098, -0.0010436073644086719, 0.0069527169689536095, 8.654811244923621e-05, -0.0016629485180601478, -0.011659009382128716, -0.014990155585110188, 0.020000871270895004, -0.025347499176859856, 0.015438040718436241, 0.011204126290977001, -0.005899487063288689, -0.03434719145298004, 0.011351088993251324, -0.004104447551071644, 0.002130953362211585, -0.02552945166826248, -0.012918686494231224, 0.008369853720068932, 0.007418097462505102, -0.004090450704097748, -0.008670776151120663, 0.033815328031778336, 0.008565803058445454, 0.01913309283554554, -0.00118094717618078, -0.016865674406290054, -0.0033818825613707304, 0.043304894119501114, 0.026411226019263268, -0.0006503956974484026, -0.00799894891679287, -0.021176569163799286, -0.010252370499074459, -0.0003604075754992664, 0.0206587016582489, 0.026859112083911896, -0.022436246275901794, -0.025235528126358986, 0.04638410359621048, -0.03807023540139198, 0.0016297070542350411, 0.005874993279576302, 0.004387874621897936, -0.0077820043079555035, -0.01948300376534462, 0.04126141592860222, -0.01112714596092701, -0.029392462223768234, 0.027432965114712715, 0.004121942911297083, 0.015284080058336258, 0.027810867875814438, -0.03146393224596977, 0.002920001046732068, -0.0026838115882128477, -0.028692640364170074, -0.00414643669500947, 0.03261163458228111, -0.021624453365802765, -0.017117610201239586, 0.025543449446558952, 0.05223460495471954, 0.006676287855952978, 0.0019664957653731108, 0.02215631678700447, 0.003229671623557806, -0.015927914530038834, 0.004877748899161816, 0.004590822383761406, -0.05660148337483406, 0.014626248739659786, 0.020126838237047195, 0.023863879963755608, -0.022296281531453133, -0.0010121153900399804, -0.01599789783358574, -0.004646808374673128, -0.008502819575369358, 0.03759435936808586, 0.010770238004624844, -0.008600793778896332, -0.01003542635589838, 0.00289725698530674, -0.03364736959338188, -0.014654241502285004, -0.0031754355877637863, 0.027880849316716194, 0.029896331951022148, 0.029840346425771713, 0.02387787587940693, 0.02215631678700447, 0.011875954456627369, -0.024521710351109505, -0.009671519510447979, 0.010602280497550964, 0.02818877063691616, 0.0010016181040555239, 0.04338887333869934, -0.01648777164518833, 0.026635168120265007, 0.004709791857749224, 0.047503817826509476, 0.022814149037003517, -0.003464111592620611, -0.006438348907977343, 0.013191617093980312, 0.03725844621658325, -0.005881991237401962, -0.029476439580321312, -0.040757548063993454, -0.01876918599009514, 0.029084540903568268, 0.05800112336874008, 0.02597733773291111, 0.02538948878645897, -0.01514411624521017, -0.017229581251740456, 0.005563572980463505, 0.018419276922941208, -0.011351088993251324, -0.007970956154167652, 0.02725101076066494, -0.004828761797398329, -0.004461355973035097, -0.006606305483728647, -0.031267981976270676, -0.012701742351055145, -0.0030809598974883556, -0.003234920324757695, 0.034375183284282684, 0.00870576687157154, -0.01398241426795721, 0.010014431551098824, -0.0017093116184696555, 0.016263829544186592, 0.00869876891374588, -0.005087695084512234, 0.021764418110251427, 0.012890693731606007, 0.10049422830343246, 0.005871494300663471, -0.05198266729712486, -0.028090795502066612, 0.02967238985002041, 0.009867468848824501, -0.01119013037532568, 0.005570571403950453, -0.006851242855191231, 0.010777235962450504, -0.010161394253373146, 0.008649781346321106, 0.017677465453743935, 0.007432093843817711, 0.031016046181321144, 0.02169443666934967, -0.006676287855952978, -0.03468310460448265, 0.0006197785260155797, -0.021526478230953217, -0.016655728220939636, 0.007914969697594643, 0.03487905487418175, 0.024269776418805122, -0.03445916250348091, -0.0006648295093327761, -0.023108072578907013, 0.011050165630877018, 0.060128577053546906, 0.019538989290595055, 0.008901717141270638, 0.02169443666934967, 0.01727157086133957, 0.0287766195833683, -0.016179850324988365, -0.011050165630877018, 0.01994488388299942, -0.004993219394236803, -4.85227110402775e-06, -0.03723045065999031, -0.018153343349695206, 0.024423735216259956, 0.02309407666325569, 0.010245372541248798, 0.005623057950288057, -0.02494160272181034, 0.001056729000993073, -0.0008861477253958583, 0.0315479077398777, -0.02677513286471367, -0.0037580360658466816, 0.003079210175201297, 0.01728556677699089, -0.010105408728122711, 0.010812226682901382, -0.009139656089246273, 0.0072361440397799015, -0.028692640364170074, 0.05391417443752289, -0.011840962804853916, 0.0008091674535535276, -0.0108402194455266, 0.038798049092292786, 0.01634780690073967, 0.005115687847137451, 0.03594278171658516, 0.006203908938914537, 0.015955908223986626, -0.016865674406290054, 0.029868340119719505, -0.017565494403243065, -0.002260420238599181, 0.002834273036569357, 0.016151856631040573, 0.0013830203097313643, -0.007229146081954241, -0.024297768250107765, -0.02064470574259758, -0.022086335346102715, 0.013569519855082035, 0.012316840700805187, -0.010805228725075722, 0.02215631678700447, 0.001274548121728003, 0.009692514315247536, -0.008915713056921959, -0.01878318190574646, -0.03818220645189285, 0.06320779025554657, 0.02480163984000683, 0.0035655854735523462, 0.003443117020651698, 0.01970694586634636, 0.007078684400767088, 0.0024913609959185123, 0.002263919450342655, -0.009468571282923222, 0.04487249255180359, -0.009125659242272377, -0.013877441175282001, 0.01350653637200594, 0.00997244194149971, -0.023513969033956528, 0.01108515728265047, 0.030176261439919472, 0.026523197069764137, -0.04775575175881386, -0.017243577167391777, -0.02655119076371193, 0.016305817291140556, 0.023234041407704353, -0.012274852022528648, 0.02866464853286743, -0.006074442062526941, 0.020378774031996727, -0.0008704017964191735, -0.01774744875729084, 0.005049204919487238, -0.021974364295601845, -0.023485977202653885, -0.004573327023535967, -0.01518610492348671, 0.023248037323355675, -0.022520223632454872, 0.021148575469851494, -0.0075020757503807545, 0.012729735113680363, 0.03700650855898857, -0.0035708341747522354, -0.024073826149106026, 0.013814456760883331, 0.005902986042201519, -0.004846257157623768, 0.039609842002391815, 0.012022916227579117, -0.021386515349149704, -0.0019717442337423563, -0.02271617390215397, 0.007222147658467293, -0.006018456537276506, -0.00799894891679287, -0.008376851677894592, -0.015522019006311893, -0.033703356981277466, 0.008593795821070671, 0.03440317511558533, -0.026159290224313736, -0.015717968344688416, -0.021512482315301895, -0.014724223874509335, -0.016767699271440506, 0.024969596415758133, 0.006879235617816448, -0.026355240494012833, -0.0023478977382183075, 0.022786155343055725, -0.03185582906007767, -0.01981891691684723, -0.0023933860938996077, 0.01450028084218502, 0.006728774402290583, -0.0018300306983292103, -0.015396051108837128, -0.016151856631040573, 0.009258625097572803, -0.0059379772283136845, -0.02030879072844982, -0.02888859063386917, -0.022982105612754822, -0.005993962753564119, 0.015717968344688416, -0.023597948253154755, -0.014514277689158916, 0.019804921001195908, 0.002627826062962413, 0.01760748401284218, 0.0070506916381418705, 0.035914789885282516, -0.03258364275097847, -0.0031159508507698774, -0.004832260776311159, -0.05021911859512329, -0.008271878585219383, -0.03745439276099205, 0.00800594687461853, 0.02228228561580181, -0.04624414071440697, -0.044256649911403656, -0.008222891017794609, -0.009216636419296265, 0.018279312178492546, 0.008047935552895069, -0.00713467039167881, 0.013772468082606792, -0.0016848179511725903, 0.03535493090748787, -0.009468571282923222, -0.031044038012623787, -0.018363289535045624, 0.020840654149651527, -0.00030835840152576566, -0.009335605427622795, 0.04439661279320717, -0.05089094862341881, 0.004573327023535967, 0.005245154723525047, 0.009580543264746666, -0.01938502863049507, -0.006504831835627556, -0.012967674061655998, 0.030792102217674255, -0.0030774606857448816, 0.025571441277861595, -0.00812491588294506, 0.0326676219701767, -0.0049337344244122505, 0.004468353930860758, 0.026859112083911896, -0.017005639150738716, 0.006196910515427589, -0.017453523352742195, 0.013534529134631157, -0.025767391547560692, -0.025445474311709404, -0.004405369982123375, 0.016963649541139603, -0.007362111937254667, -0.03325547277927399, -0.011847961694002151, -0.0005882866098545492, 0.02330402284860611, 1.0695499440771528e-05, -0.01774744875729084, 0.02505357377231121, 0.03308751434087753, 0.011735989712178707, -0.025431478396058083, -0.016445782035589218, -0.003625070210546255, -0.04677600413560867, 0.003870007349178195, 0.025319505482912064, -0.022324275225400925, 0.009153652004897594, 0.00071075523737818, 0.023681925609707832, -0.017215585336089134, -0.009251627139747143, -0.001056729000993073, 0.019916892051696777, 0.04786772280931473, 0.02123255468904972, 0.038462135940790176, -0.021848397329449654, -0.030204253271222115, 0.0035323440097272396, 0.012197871692478657, 0.014017404988408089, -0.023751908913254738, -0.04014170542359352, -0.015689976513385773, -0.025473466143012047, 0.012813713401556015, -0.051422812044620514, -0.016165854409337044, -0.04067356884479523, 0.010959189385175705, -0.02516554668545723, -0.02144250087440014, 0.03944188356399536, -0.00024121938622556627, -0.022982105612754822, -0.013604510575532913, 0.006543322000652552, -0.04109346121549606, -0.02030879072844982, 0.018923146650195122, -0.013562521897256374, 0.008040937595069408, -0.0020399768836796284, -0.005301140248775482, 0.0023251536767929792, 0.0006070943200029433, -0.01865721493959427, 0.0505550354719162, -0.012785720638930798, -0.03599876910448074, -0.015508023090660572, -0.00706818699836731, -0.008208895102143288, -0.034375183284282684, 0.005035208538174629, -0.008467827923595905, -0.006770763546228409, 0.004779774229973555, 0.05150679126381874, -0.011631016619503498, -0.0009045180049724877, -0.0068827345967292786, -0.0016428286908194423, -0.02760092169046402, -0.03387131169438362, -0.0028027810622006655, 0.0016996890772134066, -0.03745439276099205, 0.02446572482585907, 0.015214097686111927, 0.0007964832475408912, 0.014724223874509335, 0.021302536129951477, -0.02886059880256653, -0.01014739740639925, -0.016515763476490974, 0.03048418089747429, 0.009104665368795395, 0.005853998474776745, 0.04697195440530777, -0.02366792969405651, -0.027516942471265793, 0.007593052461743355, 0.0011835714103654027, 0.01575995795428753, -0.006795257329940796, -0.022562213242053986, 0.035298947244882584, -0.029868340119719505, -0.023108072578907013, -0.015578004531562328, 0.020812662318348885, 0.01822332665324211, 0.013163624331355095, 0.014248345978558064, 0.008621788583695889, -0.018839167430996895, 0.036250703036785126, -0.008663778193295002, -0.01680968888103962, 0.005514585878700018, 0.0072361440397799015, -0.019538989290595055, -0.01577395386993885, 0.006525826174765825, 0.007292129565030336, 0.033339448273181915, 0.02308008074760437, 0.051198869943618774, 0.02063070796430111, 0.03255565091967583, 0.012365828268229961, -0.002864015521481633, -0.020574722439050674, 0.012848705053329468, 0.0008813364547677338, 0.0096365287899971, -0.00048681264161132276, -0.007586054503917694, 0.02294011600315571, -0.018937142565846443, 0.013289591297507286, 0.03146393224596977, -0.0010331100784242153, -0.018979132175445557, 0.0025858369190245867, -0.014472288079559803, -0.02795083075761795, 0.005486592650413513, 0.021526478230953217, -0.016207844018936157, 0.036250703036785126, 0.004604819230735302, -0.04462055489420891, 0.011938937939703465, 0.010553293861448765, 0.030932066962122917, -0.017649473622441292, -0.0175235066562891, -0.04484449699521065, -0.011610022746026516, -0.009363598190248013, -0.04137339070439339, 0.022520223632454872, 0.00250710709951818, 0.013611509464681149, -0.008439835160970688, 0.05668546259403229, -0.013436553999781609, -0.019860906526446342, -0.009503562934696674, -0.010623275302350521]\n"
     ]
    }
   ],
   "source": [
    "import openai\n",
    "\n",
    "# Set up OpenAI API credentials\n",
    "\n",
    "\n",
    "response = client.embeddings.create(\n",
    "    input=\"Your text string goes here\",\n",
    "    model=\"text-embedding-3-small\"\n",
    ")\n",
    "\n",
    "print(response.data[0].embedding)"
   ]
  },
  {
   "cell_type": "code",
   "execution_count": null,
   "metadata": {},
   "outputs": [],
   "source": []
  }
 ],
 "metadata": {
  "kernelspec": {
   "display_name": "Python 3",
   "language": "python",
   "name": "python3"
  },
  "language_info": {
   "codemirror_mode": {
    "name": "ipython",
    "version": 3
   },
   "file_extension": ".py",
   "mimetype": "text/x-python",
   "name": "python",
   "nbconvert_exporter": "python",
   "pygments_lexer": "ipython3",
   "version": "3.11.4"
  }
 },
 "nbformat": 4,
 "nbformat_minor": 2
}
