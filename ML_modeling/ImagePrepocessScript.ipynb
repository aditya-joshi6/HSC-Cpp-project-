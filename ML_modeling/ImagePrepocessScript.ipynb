{
 "cells": [
  {
   "cell_type": "code",
   "execution_count": 1,
   "metadata": {},
   "outputs": [],
   "source": [
    "import os\n",
    "import pandas as pd\n",
    "import numpy as np"
   ]
  },
  {
   "cell_type": "code",
   "execution_count": 13,
   "metadata": {},
   "outputs": [],
   "source": [
    "folder = r'D:\\downloads\\cattle diseases.v2i.multiclass\\train'\n",
    "file = pd.read_csv(r'D:\\downloads\\cattle diseases.v2i.multiclass\\train\\classes.csv')\n"
   ]
  },
  {
   "cell_type": "code",
   "execution_count": 14,
   "metadata": {},
   "outputs": [
    {
     "data": {
      "text/html": [
       "<div>\n",
       "<style scoped>\n",
       "    .dataframe tbody tr th:only-of-type {\n",
       "        vertical-align: middle;\n",
       "    }\n",
       "\n",
       "    .dataframe tbody tr th {\n",
       "        vertical-align: top;\n",
       "    }\n",
       "\n",
       "    .dataframe thead th {\n",
       "        text-align: right;\n",
       "    }\n",
       "</style>\n",
       "<table border=\"1\" class=\"dataframe\">\n",
       "  <thead>\n",
       "    <tr style=\"text-align: right;\">\n",
       "      <th></th>\n",
       "      <th>filename</th>\n",
       "      <th>healthy</th>\n",
       "      <th>lumpy</th>\n",
       "      <th>valid</th>\n",
       "      <th>Bin</th>\n",
       "    </tr>\n",
       "  </thead>\n",
       "  <tbody>\n",
       "    <tr>\n",
       "      <th>0</th>\n",
       "      <td>37_jpg.rf.583270f81aad69fe1fa331edd1a8d7da.jpg</td>\n",
       "      <td>0</td>\n",
       "      <td>1</td>\n",
       "      <td>1</td>\n",
       "      <td>1</td>\n",
       "    </tr>\n",
       "    <tr>\n",
       "      <th>1</th>\n",
       "      <td>8_jpg.rf.5744e632fa0e1f44d677bc5405233f02.jpg</td>\n",
       "      <td>0</td>\n",
       "      <td>1</td>\n",
       "      <td>1</td>\n",
       "      <td>1</td>\n",
       "    </tr>\n",
       "    <tr>\n",
       "      <th>2</th>\n",
       "      <td>36_jpg.rf.530ca130a108b3e31c4f812330bd4211.jpg</td>\n",
       "      <td>0</td>\n",
       "      <td>1</td>\n",
       "      <td>1</td>\n",
       "      <td>1</td>\n",
       "    </tr>\n",
       "    <tr>\n",
       "      <th>3</th>\n",
       "      <td>Ayrshirecattle30_c_jpg.rf.569ea435b44be8110b7c...</td>\n",
       "      <td>1</td>\n",
       "      <td>0</td>\n",
       "      <td>1</td>\n",
       "      <td>0</td>\n",
       "    </tr>\n",
       "    <tr>\n",
       "      <th>4</th>\n",
       "      <td>Ayrshirecattle146_c_jpg.rf.552c1cf35f85ae054c3...</td>\n",
       "      <td>1</td>\n",
       "      <td>0</td>\n",
       "      <td>1</td>\n",
       "      <td>0</td>\n",
       "    </tr>\n",
       "  </tbody>\n",
       "</table>\n",
       "</div>"
      ],
      "text/plain": [
       "                                            filename   healthy   lumpy  valid  \\\n",
       "0     37_jpg.rf.583270f81aad69fe1fa331edd1a8d7da.jpg         0       1      1   \n",
       "1      8_jpg.rf.5744e632fa0e1f44d677bc5405233f02.jpg         0       1      1   \n",
       "2     36_jpg.rf.530ca130a108b3e31c4f812330bd4211.jpg         0       1      1   \n",
       "3  Ayrshirecattle30_c_jpg.rf.569ea435b44be8110b7c...         1       0      1   \n",
       "4  Ayrshirecattle146_c_jpg.rf.552c1cf35f85ae054c3...         1       0      1   \n",
       "\n",
       "   Bin  \n",
       "0    1  \n",
       "1    1  \n",
       "2    1  \n",
       "3    0  \n",
       "4    0  "
      ]
     },
     "execution_count": 14,
     "metadata": {},
     "output_type": "execute_result"
    }
   ],
   "source": [
    "file.head()"
   ]
  },
  {
   "cell_type": "code",
   "execution_count": 15,
   "metadata": {},
   "outputs": [
    {
     "data": {
      "text/plain": [
       "Bin\n",
       "1    384\n",
       "0    369\n",
       "Name: count, dtype: int64"
      ]
     },
     "execution_count": 15,
     "metadata": {},
     "output_type": "execute_result"
    }
   ],
   "source": [
    "file['Bin'].value_counts()"
   ]
  },
  {
   "cell_type": "code",
   "execution_count": 16,
   "metadata": {},
   "outputs": [],
   "source": [
    "file = file[file['valid'] != 0]\n"
   ]
  },
  {
   "cell_type": "code",
   "execution_count": 17,
   "metadata": {},
   "outputs": [
    {
     "data": {
      "text/plain": [
       "Bin\n",
       "0    369\n",
       "1    361\n",
       "Name: count, dtype: int64"
      ]
     },
     "execution_count": 17,
     "metadata": {},
     "output_type": "execute_result"
    }
   ],
   "source": [
    "file['Bin'].value_counts()"
   ]
  },
  {
   "cell_type": "code",
   "execution_count": 18,
   "metadata": {},
   "outputs": [],
   "source": [
    "# Create subdirectories if they don't exist\n",
    "if not os.path.exists(os.path.join(folder, 'no_disease')):\n",
    "    os.makedirs(os.path.join(folder, 'no_disease'))\n",
    "\n",
    "if not os.path.exists(os.path.join(folder, 'lumpy')):\n",
    "    os.makedirs(os.path.join(folder, 'lumpy'))\n",
    "\n",
    "# Iterate over the dataframe rows\n",
    "for index, row in file.iterrows():\n",
    "    # Get the current file path\n",
    "    current_file_path = os.path.join(folder, row['filename'])\n",
    "    \n",
    "    # Check if the file exists\n",
    "    if os.path.exists(current_file_path):\n",
    "        # Move the file to the appropriate subdirectory\n",
    "        if row['Bin'] == 0:\n",
    "            new_file_path = os.path.join(folder, 'no_disease', row['filename'])\n",
    "        else:\n",
    "            new_file_path = os.path.join(folder, 'lumpy', row['filename'])\n",
    "        \n",
    "        os.rename(current_file_path, new_file_path)\n"
   ]
  },
  {
   "cell_type": "code",
   "execution_count": null,
   "metadata": {},
   "outputs": [],
   "source": []
  }
 ],
 "metadata": {
  "kernelspec": {
   "display_name": "Python 3",
   "language": "python",
   "name": "python3"
  },
  "language_info": {
   "codemirror_mode": {
    "name": "ipython",
    "version": 3
   },
   "file_extension": ".py",
   "mimetype": "text/x-python",
   "name": "python",
   "nbconvert_exporter": "python",
   "pygments_lexer": "ipython3",
   "version": "3.11.4"
  }
 },
 "nbformat": 4,
 "nbformat_minor": 2
}
