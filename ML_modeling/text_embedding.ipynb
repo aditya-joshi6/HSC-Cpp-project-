{
 "cells": [
  {
   "cell_type": "code",
   "execution_count": 1,
   "metadata": {},
   "outputs": [],
   "source": [
    "from keras.layers import Input, Dense, Dropout, Activation\n",
    "from keras.models import Sequential\n",
    "from keras.optimizers import Adam\n",
    "from keras.callbacks import ModelCheckpoint\n",
    "from keras.utils import to_categorical\n",
    "import pandas as pd\n",
    "import numpy as np"
   ]
  },
  {
   "cell_type": "code",
   "execution_count": 25,
   "metadata": {},
   "outputs": [
    {
     "data": {
      "text/html": [
       "<div>\n",
       "<style scoped>\n",
       "    .dataframe tbody tr th:only-of-type {\n",
       "        vertical-align: middle;\n",
       "    }\n",
       "\n",
       "    .dataframe tbody tr th {\n",
       "        vertical-align: top;\n",
       "    }\n",
       "\n",
       "    .dataframe thead th {\n",
       "        text-align: right;\n",
       "    }\n",
       "</style>\n",
       "<table border=\"1\" class=\"dataframe\">\n",
       "  <thead>\n",
       "    <tr style=\"text-align: right;\">\n",
       "      <th></th>\n",
       "      <th>text</th>\n",
       "      <th>sentiment</th>\n",
       "      <th>embeddings</th>\n",
       "    </tr>\n",
       "  </thead>\n",
       "  <tbody>\n",
       "    <tr>\n",
       "      <th>0</th>\n",
       "      <td>sooo sad i will miss you here in san diego!!!</td>\n",
       "      <td>0</td>\n",
       "      <td>[0.008974676951766014, -0.043760549277067184, ...</td>\n",
       "    </tr>\n",
       "    <tr>\n",
       "      <th>1</th>\n",
       "      <td>my boss is bullying me...</td>\n",
       "      <td>0</td>\n",
       "      <td>[0.010316452942788601, -0.02224578522145748, 0...</td>\n",
       "    </tr>\n",
       "    <tr>\n",
       "      <th>2</th>\n",
       "      <td>what interview! leave me alone</td>\n",
       "      <td>0</td>\n",
       "      <td>[0.0156759824603796, 0.0006652711308561265, -0...</td>\n",
       "    </tr>\n",
       "    <tr>\n",
       "      <th>3</th>\n",
       "      <td>sons of ****, why couldn`t they put them on t...</td>\n",
       "      <td>0</td>\n",
       "      <td>[0.06485775858163834, 0.024564877152442932, -0...</td>\n",
       "    </tr>\n",
       "    <tr>\n",
       "      <th>4</th>\n",
       "      <td>2am feedings for the baby are fun when he is a...</td>\n",
       "      <td>1</td>\n",
       "      <td>[-0.014865541830658913, -0.002915020799264312,...</td>\n",
       "    </tr>\n",
       "  </tbody>\n",
       "</table>\n",
       "</div>"
      ],
      "text/plain": [
       "                                                text  ...                                         embeddings\n",
       "0      sooo sad i will miss you here in san diego!!!  ...  [0.008974676951766014, -0.043760549277067184, ...\n",
       "1                          my boss is bullying me...  ...  [0.010316452942788601, -0.02224578522145748, 0...\n",
       "2                     what interview! leave me alone  ...  [0.0156759824603796, 0.0006652711308561265, -0...\n",
       "3   sons of ****, why couldn`t they put them on t...  ...  [0.06485775858163834, 0.024564877152442932, -0...\n",
       "4  2am feedings for the baby are fun when he is a...  ...  [-0.014865541830658913, -0.002915020799264312,...\n",
       "\n",
       "[5 rows x 3 columns]"
      ]
     },
     "execution_count": 25,
     "metadata": {},
     "output_type": "execute_result"
    }
   ],
   "source": [
    "df= pd.read_csv('train_embeddings.csv')\n",
    "df.head()"
   ]
  },
  {
   "cell_type": "code",
   "execution_count": 26,
   "metadata": {},
   "outputs": [],
   "source": [
    "def parse_embedding(embedding_string):\n",
    "    # Remove leading and trailing square brackets\n",
    "    embedding_string = embedding_string.strip('[]')\n",
    "    \n",
    "    # Split the string by comma and convert each part to float\n",
    "    embedding_values = [float(value) for value in embedding_string.split(',') if value.strip()]\n",
    "    \n",
    "    # Convert the list of floats to a NumPy array\n",
    "    embedding_array = np.array(embedding_values)\n",
    "    \n",
    "    return embedding_array\n"
   ]
  },
  {
   "cell_type": "code",
   "execution_count": 29,
   "metadata": {},
   "outputs": [],
   "source": [
    "X = np.stack(df['embeddings'].apply(parse_embedding))\n",
    "y = df['sentiment']\n"
   ]
  },
  {
   "cell_type": "code",
   "execution_count": 30,
   "metadata": {},
   "outputs": [
    {
     "data": {
      "text/plain": [
       "array([[ 0.00897468, -0.04376055, -0.04198886, ...,  0.01069653,\n",
       "         0.02216817, -0.00346032],\n",
       "       [ 0.01031645, -0.02224579,  0.04267559, ..., -0.0084945 ,\n",
       "        -0.05490958,  0.00380819],\n",
       "       [ 0.01567598,  0.00066527, -0.00682424, ...,  0.00380464,\n",
       "         0.01468696,  0.03098108],\n",
       "       ...,\n",
       "       [-0.03910296,  0.00651592,  0.03609275, ..., -0.01229419,\n",
       "        -0.00607631, -0.00477238],\n",
       "       [ 0.01765929,  0.00100825, -0.0542265 , ..., -0.00152317,\n",
       "        -0.03097064,  0.0198221 ],\n",
       "       [ 0.01786791, -0.00962171, -0.0439616 , ..., -0.00485511,\n",
       "         0.02500418,  0.02210337]])"
      ]
     },
     "execution_count": 30,
     "metadata": {},
     "output_type": "execute_result"
    }
   ],
   "source": [
    "X"
   ]
  },
  {
   "cell_type": "code",
   "execution_count": 31,
   "metadata": {},
   "outputs": [
    {
     "data": {
      "text/plain": [
       "1536"
      ]
     },
     "execution_count": 31,
     "metadata": {},
     "output_type": "execute_result"
    }
   ],
   "source": [
    "len(X[0])"
   ]
  },
  {
   "cell_type": "code",
   "execution_count": 32,
   "metadata": {},
   "outputs": [],
   "source": [
    "from sklearn.model_selection import train_test_split\n",
    "X_train, X_test, y_train, y_test = train_test_split(X, y, test_size=0.1, random_state=42)\n"
   ]
  },
  {
   "cell_type": "code",
   "execution_count": 49,
   "metadata": {},
   "outputs": [
    {
     "name": "stderr",
     "output_type": "stream",
     "text": [
      "c:\\Users\\Aditya Joshi\\AppData\\Local\\Programs\\Python\\Python311\\Lib\\site-packages\\keras\\src\\layers\\core\\dense.py:86: UserWarning: Do not pass an `input_shape`/`input_dim` argument to a layer. When using Sequential models, prefer using an `Input(shape)` object as the first layer in the model instead.\n",
      "  super().__init__(activity_regularizer=activity_regularizer, **kwargs)\n"
     ]
    },
    {
     "data": {
      "text/html": [
       "<pre style=\"white-space:pre;overflow-x:auto;line-height:normal;font-family:Menlo,'DejaVu Sans Mono',consolas,'Courier New',monospace\"><span style=\"font-weight: bold\">Model: \"sequential_13\"</span>\n",
       "</pre>\n"
      ],
      "text/plain": [
       "\u001b[1mModel: \"sequential_13\"\u001b[0m\n"
      ]
     },
     "metadata": {},
     "output_type": "display_data"
    },
    {
     "data": {
      "text/html": [
       "<pre style=\"white-space:pre;overflow-x:auto;line-height:normal;font-family:Menlo,'DejaVu Sans Mono',consolas,'Courier New',monospace\">┏━━━━━━━━━━━━━━━━━━━━━━━━━━━━━━━━━┳━━━━━━━━━━━━━━━━━━━━━━━━┳━━━━━━━━━━━━━━━┓\n",
       "┃<span style=\"font-weight: bold\"> Layer (type)                    </span>┃<span style=\"font-weight: bold\"> Output Shape           </span>┃<span style=\"font-weight: bold\">       Param # </span>┃\n",
       "┡━━━━━━━━━━━━━━━━━━━━━━━━━━━━━━━━━╇━━━━━━━━━━━━━━━━━━━━━━━━╇━━━━━━━━━━━━━━━┩\n",
       "│ dense_43 (<span style=\"color: #0087ff; text-decoration-color: #0087ff\">Dense</span>)                │ (<span style=\"color: #00d7ff; text-decoration-color: #00d7ff\">None</span>, <span style=\"color: #00af00; text-decoration-color: #00af00\">512</span>)            │       <span style=\"color: #00af00; text-decoration-color: #00af00\">786,944</span> │\n",
       "├─────────────────────────────────┼────────────────────────┼───────────────┤\n",
       "│ dropout_30 (<span style=\"color: #0087ff; text-decoration-color: #0087ff\">Dropout</span>)            │ (<span style=\"color: #00d7ff; text-decoration-color: #00d7ff\">None</span>, <span style=\"color: #00af00; text-decoration-color: #00af00\">512</span>)            │             <span style=\"color: #00af00; text-decoration-color: #00af00\">0</span> │\n",
       "├─────────────────────────────────┼────────────────────────┼───────────────┤\n",
       "│ dense_44 (<span style=\"color: #0087ff; text-decoration-color: #0087ff\">Dense</span>)                │ (<span style=\"color: #00d7ff; text-decoration-color: #00d7ff\">None</span>, <span style=\"color: #00af00; text-decoration-color: #00af00\">128</span>)            │        <span style=\"color: #00af00; text-decoration-color: #00af00\">65,664</span> │\n",
       "├─────────────────────────────────┼────────────────────────┼───────────────┤\n",
       "│ dropout_31 (<span style=\"color: #0087ff; text-decoration-color: #0087ff\">Dropout</span>)            │ (<span style=\"color: #00d7ff; text-decoration-color: #00d7ff\">None</span>, <span style=\"color: #00af00; text-decoration-color: #00af00\">128</span>)            │             <span style=\"color: #00af00; text-decoration-color: #00af00\">0</span> │\n",
       "├─────────────────────────────────┼────────────────────────┼───────────────┤\n",
       "│ dense_45 (<span style=\"color: #0087ff; text-decoration-color: #0087ff\">Dense</span>)                │ (<span style=\"color: #00d7ff; text-decoration-color: #00d7ff\">None</span>, <span style=\"color: #00af00; text-decoration-color: #00af00\">32</span>)             │         <span style=\"color: #00af00; text-decoration-color: #00af00\">4,128</span> │\n",
       "├─────────────────────────────────┼────────────────────────┼───────────────┤\n",
       "│ dropout_32 (<span style=\"color: #0087ff; text-decoration-color: #0087ff\">Dropout</span>)            │ (<span style=\"color: #00d7ff; text-decoration-color: #00d7ff\">None</span>, <span style=\"color: #00af00; text-decoration-color: #00af00\">32</span>)             │             <span style=\"color: #00af00; text-decoration-color: #00af00\">0</span> │\n",
       "├─────────────────────────────────┼────────────────────────┼───────────────┤\n",
       "│ dense_46 (<span style=\"color: #0087ff; text-decoration-color: #0087ff\">Dense</span>)                │ (<span style=\"color: #00d7ff; text-decoration-color: #00d7ff\">None</span>, <span style=\"color: #00af00; text-decoration-color: #00af00\">1</span>)              │            <span style=\"color: #00af00; text-decoration-color: #00af00\">33</span> │\n",
       "└─────────────────────────────────┴────────────────────────┴───────────────┘\n",
       "</pre>\n"
      ],
      "text/plain": [
       "┏━━━━━━━━━━━━━━━━━━━━━━━━━━━━━━━━━┳━━━━━━━━━━━━━━━━━━━━━━━━┳━━━━━━━━━━━━━━━┓\n",
       "┃\u001b[1m \u001b[0m\u001b[1mLayer (type)                   \u001b[0m\u001b[1m \u001b[0m┃\u001b[1m \u001b[0m\u001b[1mOutput Shape          \u001b[0m\u001b[1m \u001b[0m┃\u001b[1m \u001b[0m\u001b[1m      Param #\u001b[0m\u001b[1m \u001b[0m┃\n",
       "┡━━━━━━━━━━━━━━━━━━━━━━━━━━━━━━━━━╇━━━━━━━━━━━━━━━━━━━━━━━━╇━━━━━━━━━━━━━━━┩\n",
       "│ dense_43 (\u001b[38;5;33mDense\u001b[0m)                │ (\u001b[38;5;45mNone\u001b[0m, \u001b[38;5;34m512\u001b[0m)            │       \u001b[38;5;34m786,944\u001b[0m │\n",
       "├─────────────────────────────────┼────────────────────────┼───────────────┤\n",
       "│ dropout_30 (\u001b[38;5;33mDropout\u001b[0m)            │ (\u001b[38;5;45mNone\u001b[0m, \u001b[38;5;34m512\u001b[0m)            │             \u001b[38;5;34m0\u001b[0m │\n",
       "├─────────────────────────────────┼────────────────────────┼───────────────┤\n",
       "│ dense_44 (\u001b[38;5;33mDense\u001b[0m)                │ (\u001b[38;5;45mNone\u001b[0m, \u001b[38;5;34m128\u001b[0m)            │        \u001b[38;5;34m65,664\u001b[0m │\n",
       "├─────────────────────────────────┼────────────────────────┼───────────────┤\n",
       "│ dropout_31 (\u001b[38;5;33mDropout\u001b[0m)            │ (\u001b[38;5;45mNone\u001b[0m, \u001b[38;5;34m128\u001b[0m)            │             \u001b[38;5;34m0\u001b[0m │\n",
       "├─────────────────────────────────┼────────────────────────┼───────────────┤\n",
       "│ dense_45 (\u001b[38;5;33mDense\u001b[0m)                │ (\u001b[38;5;45mNone\u001b[0m, \u001b[38;5;34m32\u001b[0m)             │         \u001b[38;5;34m4,128\u001b[0m │\n",
       "├─────────────────────────────────┼────────────────────────┼───────────────┤\n",
       "│ dropout_32 (\u001b[38;5;33mDropout\u001b[0m)            │ (\u001b[38;5;45mNone\u001b[0m, \u001b[38;5;34m32\u001b[0m)             │             \u001b[38;5;34m0\u001b[0m │\n",
       "├─────────────────────────────────┼────────────────────────┼───────────────┤\n",
       "│ dense_46 (\u001b[38;5;33mDense\u001b[0m)                │ (\u001b[38;5;45mNone\u001b[0m, \u001b[38;5;34m1\u001b[0m)              │            \u001b[38;5;34m33\u001b[0m │\n",
       "└─────────────────────────────────┴────────────────────────┴───────────────┘\n"
      ]
     },
     "metadata": {},
     "output_type": "display_data"
    },
    {
     "data": {
      "text/html": [
       "<pre style=\"white-space:pre;overflow-x:auto;line-height:normal;font-family:Menlo,'DejaVu Sans Mono',consolas,'Courier New',monospace\"><span style=\"font-weight: bold\"> Total params: </span><span style=\"color: #00af00; text-decoration-color: #00af00\">856,769</span> (3.27 MB)\n",
       "</pre>\n"
      ],
      "text/plain": [
       "\u001b[1m Total params: \u001b[0m\u001b[38;5;34m856,769\u001b[0m (3.27 MB)\n"
      ]
     },
     "metadata": {},
     "output_type": "display_data"
    },
    {
     "data": {
      "text/html": [
       "<pre style=\"white-space:pre;overflow-x:auto;line-height:normal;font-family:Menlo,'DejaVu Sans Mono',consolas,'Courier New',monospace\"><span style=\"font-weight: bold\"> Trainable params: </span><span style=\"color: #00af00; text-decoration-color: #00af00\">856,769</span> (3.27 MB)\n",
       "</pre>\n"
      ],
      "text/plain": [
       "\u001b[1m Trainable params: \u001b[0m\u001b[38;5;34m856,769\u001b[0m (3.27 MB)\n"
      ]
     },
     "metadata": {},
     "output_type": "display_data"
    },
    {
     "data": {
      "text/html": [
       "<pre style=\"white-space:pre;overflow-x:auto;line-height:normal;font-family:Menlo,'DejaVu Sans Mono',consolas,'Courier New',monospace\"><span style=\"font-weight: bold\"> Non-trainable params: </span><span style=\"color: #00af00; text-decoration-color: #00af00\">0</span> (0.00 B)\n",
       "</pre>\n"
      ],
      "text/plain": [
       "\u001b[1m Non-trainable params: \u001b[0m\u001b[38;5;34m0\u001b[0m (0.00 B)\n"
      ]
     },
     "metadata": {},
     "output_type": "display_data"
    }
   ],
   "source": [
    "model = Sequential()\n",
    "model.add(Dense(512,activation='relu',input_shape=(1536,)))\n",
    "model.add(Dropout(0.4))\n",
    "model.add(Dense(128,activation='relu'))\n",
    "model.add(Dropout(0.3))\n",
    "model.add(Dense(32,activation='relu'))\n",
    "model.add(Dropout(0.2))\n",
    "model.add(Dense(1,activation='sigmoid'))\n",
    "\n",
    "opt = Adam(learning_rate=0.00001)\n",
    "model.compile(optimizer=opt, loss='binary_crossentropy', metrics=['accuracy'])\n",
    "checkpoint_callback = ModelCheckpoint('best_model.keras', monitor='val_accuracy', \n",
    "                                      mode='max', save_best_only=True, verbose=1)\n",
    "\n",
    "model.summary()\n"
   ]
  },
  {
   "cell_type": "code",
   "execution_count": 50,
   "metadata": {},
   "outputs": [
    {
     "name": "stdout",
     "output_type": "stream",
     "text": [
      "Epoch 1/50\n",
      "\u001b[1m460/461\u001b[0m \u001b[32m━━━━━━━━━━━━━━━━━━━\u001b[0m\u001b[37m━\u001b[0m \u001b[1m0s\u001b[0m 7ms/step - accuracy: 0.5836 - loss: 0.6872\n",
      "Epoch 1: val_accuracy improved from -inf to 0.87416, saving model to best_model.keras\n",
      "\u001b[1m461/461\u001b[0m \u001b[32m━━━━━━━━━━━━━━━━━━━━\u001b[0m\u001b[37m\u001b[0m \u001b[1m5s\u001b[0m 8ms/step - accuracy: 0.5840 - loss: 0.6872 - val_accuracy: 0.8742 - val_loss: 0.6426\n",
      "Epoch 2/50\n",
      "\u001b[1m457/461\u001b[0m \u001b[32m━━━━━━━━━━━━━━━━━━━\u001b[0m\u001b[37m━\u001b[0m \u001b[1m0s\u001b[0m 7ms/step - accuracy: 0.8522 - loss: 0.6180\n",
      "Epoch 2: val_accuracy improved from 0.87416 to 0.88821, saving model to best_model.keras\n",
      "\u001b[1m461/461\u001b[0m \u001b[32m━━━━━━━━━━━━━━━━━━━━\u001b[0m\u001b[37m\u001b[0m \u001b[1m3s\u001b[0m 7ms/step - accuracy: 0.8524 - loss: 0.6176 - val_accuracy: 0.8882 - val_loss: 0.4886\n",
      "Epoch 3/50\n",
      "\u001b[1m460/461\u001b[0m \u001b[32m━━━━━━━━━━━━━━━━━━━\u001b[0m\u001b[37m━\u001b[0m \u001b[1m0s\u001b[0m 7ms/step - accuracy: 0.8947 - loss: 0.4618\n",
      "Epoch 3: val_accuracy improved from 0.88821 to 0.90104, saving model to best_model.keras\n",
      "\u001b[1m461/461\u001b[0m \u001b[32m━━━━━━━━━━━━━━━━━━━━\u001b[0m\u001b[37m\u001b[0m \u001b[1m3s\u001b[0m 7ms/step - accuracy: 0.8947 - loss: 0.4616 - val_accuracy: 0.9010 - val_loss: 0.3471\n",
      "Epoch 4/50\n",
      "\u001b[1m458/461\u001b[0m \u001b[32m━━━━━━━━━━━━━━━━━━━\u001b[0m\u001b[37m━\u001b[0m \u001b[1m0s\u001b[0m 7ms/step - accuracy: 0.9060 - loss: 0.3337\n",
      "Epoch 4: val_accuracy improved from 0.90104 to 0.90409, saving model to best_model.keras\n",
      "\u001b[1m461/461\u001b[0m \u001b[32m━━━━━━━━━━━━━━━━━━━━\u001b[0m\u001b[37m\u001b[0m \u001b[1m3s\u001b[0m 7ms/step - accuracy: 0.9060 - loss: 0.3336 - val_accuracy: 0.9041 - val_loss: 0.2802\n",
      "Epoch 5/50\n",
      "\u001b[1m460/461\u001b[0m \u001b[32m━━━━━━━━━━━━━━━━━━━\u001b[0m\u001b[37m━\u001b[0m \u001b[1m0s\u001b[0m 7ms/step - accuracy: 0.9153 - loss: 0.2663\n",
      "Epoch 5: val_accuracy improved from 0.90409 to 0.90776, saving model to best_model.keras\n",
      "\u001b[1m461/461\u001b[0m \u001b[32m━━━━━━━━━━━━━━━━━━━━\u001b[0m\u001b[37m\u001b[0m \u001b[1m4s\u001b[0m 8ms/step - accuracy: 0.9153 - loss: 0.2663 - val_accuracy: 0.9078 - val_loss: 0.2526\n",
      "Epoch 6/50\n",
      "\u001b[1m459/461\u001b[0m \u001b[32m━━━━━━━━━━━━━━━━━━━\u001b[0m\u001b[37m━\u001b[0m \u001b[1m0s\u001b[0m 7ms/step - accuracy: 0.9135 - loss: 0.2421\n",
      "Epoch 6: val_accuracy improved from 0.90776 to 0.91081, saving model to best_model.keras\n",
      "\u001b[1m461/461\u001b[0m \u001b[32m━━━━━━━━━━━━━━━━━━━━\u001b[0m\u001b[37m\u001b[0m \u001b[1m4s\u001b[0m 8ms/step - accuracy: 0.9135 - loss: 0.2421 - val_accuracy: 0.9108 - val_loss: 0.2390\n",
      "Epoch 7/50\n",
      "\u001b[1m457/461\u001b[0m \u001b[32m━━━━━━━━━━━━━━━━━━━\u001b[0m\u001b[37m━\u001b[0m \u001b[1m0s\u001b[0m 7ms/step - accuracy: 0.9174 - loss: 0.2312\n",
      "Epoch 7: val_accuracy improved from 0.91081 to 0.91387, saving model to best_model.keras\n",
      "\u001b[1m461/461\u001b[0m \u001b[32m━━━━━━━━━━━━━━━━━━━━\u001b[0m\u001b[37m\u001b[0m \u001b[1m4s\u001b[0m 8ms/step - accuracy: 0.9174 - loss: 0.2311 - val_accuracy: 0.9139 - val_loss: 0.2313\n",
      "Epoch 8/50\n",
      "\u001b[1m459/461\u001b[0m \u001b[32m━━━━━━━━━━━━━━━━━━━\u001b[0m\u001b[37m━\u001b[0m \u001b[1m0s\u001b[0m 7ms/step - accuracy: 0.9170 - loss: 0.2228\n",
      "Epoch 8: val_accuracy improved from 0.91387 to 0.91448, saving model to best_model.keras\n",
      "\u001b[1m461/461\u001b[0m \u001b[32m━━━━━━━━━━━━━━━━━━━━\u001b[0m\u001b[37m\u001b[0m \u001b[1m3s\u001b[0m 7ms/step - accuracy: 0.9170 - loss: 0.2228 - val_accuracy: 0.9145 - val_loss: 0.2268\n",
      "Epoch 9/50\n",
      "\u001b[1m457/461\u001b[0m \u001b[32m━━━━━━━━━━━━━━━━━━━\u001b[0m\u001b[37m━\u001b[0m \u001b[1m0s\u001b[0m 7ms/step - accuracy: 0.9198 - loss: 0.2158\n",
      "Epoch 9: val_accuracy improved from 0.91448 to 0.91753, saving model to best_model.keras\n",
      "\u001b[1m461/461\u001b[0m \u001b[32m━━━━━━━━━━━━━━━━━━━━\u001b[0m\u001b[37m\u001b[0m \u001b[1m3s\u001b[0m 8ms/step - accuracy: 0.9198 - loss: 0.2158 - val_accuracy: 0.9175 - val_loss: 0.2238\n",
      "Epoch 10/50\n",
      "\u001b[1m457/461\u001b[0m \u001b[32m━━━━━━━━━━━━━━━━━━━\u001b[0m\u001b[37m━\u001b[0m \u001b[1m0s\u001b[0m 7ms/step - accuracy: 0.9233 - loss: 0.2078\n",
      "Epoch 10: val_accuracy improved from 0.91753 to 0.91875, saving model to best_model.keras\n",
      "\u001b[1m461/461\u001b[0m \u001b[32m━━━━━━━━━━━━━━━━━━━━\u001b[0m\u001b[37m\u001b[0m \u001b[1m4s\u001b[0m 8ms/step - accuracy: 0.9233 - loss: 0.2078 - val_accuracy: 0.9188 - val_loss: 0.2204\n",
      "Epoch 11/50\n",
      "\u001b[1m459/461\u001b[0m \u001b[32m━━━━━━━━━━━━━━━━━━━\u001b[0m\u001b[37m━\u001b[0m \u001b[1m0s\u001b[0m 7ms/step - accuracy: 0.9239 - loss: 0.2042\n",
      "Epoch 11: val_accuracy improved from 0.91875 to 0.91998, saving model to best_model.keras\n",
      "\u001b[1m461/461\u001b[0m \u001b[32m━━━━━━━━━━━━━━━━━━━━\u001b[0m\u001b[37m\u001b[0m \u001b[1m3s\u001b[0m 7ms/step - accuracy: 0.9239 - loss: 0.2043 - val_accuracy: 0.9200 - val_loss: 0.2180\n",
      "Epoch 12/50\n",
      "\u001b[1m456/461\u001b[0m \u001b[32m━━━━━━━━━━━━━━━━━━━\u001b[0m\u001b[37m━\u001b[0m \u001b[1m0s\u001b[0m 7ms/step - accuracy: 0.9225 - loss: 0.2072\n",
      "Epoch 12: val_accuracy did not improve from 0.91998\n",
      "\u001b[1m461/461\u001b[0m \u001b[32m━━━━━━━━━━━━━━━━━━━━\u001b[0m\u001b[37m\u001b[0m \u001b[1m3s\u001b[0m 7ms/step - accuracy: 0.9225 - loss: 0.2071 - val_accuracy: 0.9194 - val_loss: 0.2167\n",
      "Epoch 13/50\n",
      "\u001b[1m456/461\u001b[0m \u001b[32m━━━━━━━━━━━━━━━━━━━\u001b[0m\u001b[37m━\u001b[0m \u001b[1m0s\u001b[0m 7ms/step - accuracy: 0.9289 - loss: 0.1953\n",
      "Epoch 13: val_accuracy did not improve from 0.91998\n",
      "\u001b[1m461/461\u001b[0m \u001b[32m━━━━━━━━━━━━━━━━━━━━\u001b[0m\u001b[37m\u001b[0m \u001b[1m3s\u001b[0m 7ms/step - accuracy: 0.9289 - loss: 0.1953 - val_accuracy: 0.9188 - val_loss: 0.2152\n",
      "Epoch 14/50\n",
      "\u001b[1m458/461\u001b[0m \u001b[32m━━━━━━━━━━━━━━━━━━━\u001b[0m\u001b[37m━\u001b[0m \u001b[1m0s\u001b[0m 7ms/step - accuracy: 0.9277 - loss: 0.2025\n",
      "Epoch 14: val_accuracy did not improve from 0.91998\n",
      "\u001b[1m461/461\u001b[0m \u001b[32m━━━━━━━━━━━━━━━━━━━━\u001b[0m\u001b[37m\u001b[0m \u001b[1m3s\u001b[0m 7ms/step - accuracy: 0.9278 - loss: 0.2024 - val_accuracy: 0.9188 - val_loss: 0.2137\n",
      "Epoch 15/50\n",
      "\u001b[1m459/461\u001b[0m \u001b[32m━━━━━━━━━━━━━━━━━━━\u001b[0m\u001b[37m━\u001b[0m \u001b[1m0s\u001b[0m 7ms/step - accuracy: 0.9283 - loss: 0.1919\n",
      "Epoch 15: val_accuracy did not improve from 0.91998\n",
      "\u001b[1m461/461\u001b[0m \u001b[32m━━━━━━━━━━━━━━━━━━━━\u001b[0m\u001b[37m\u001b[0m \u001b[1m3s\u001b[0m 7ms/step - accuracy: 0.9283 - loss: 0.1919 - val_accuracy: 0.9181 - val_loss: 0.2131\n",
      "Epoch 16/50\n",
      "\u001b[1m454/461\u001b[0m \u001b[32m━━━━━━━━━━━━━━━━━━━\u001b[0m\u001b[37m━\u001b[0m \u001b[1m0s\u001b[0m 7ms/step - accuracy: 0.9286 - loss: 0.1914\n",
      "Epoch 16: val_accuracy did not improve from 0.91998\n",
      "\u001b[1m461/461\u001b[0m \u001b[32m━━━━━━━━━━━━━━━━━━━━\u001b[0m\u001b[37m\u001b[0m \u001b[1m3s\u001b[0m 7ms/step - accuracy: 0.9286 - loss: 0.1914 - val_accuracy: 0.9169 - val_loss: 0.2114\n",
      "Epoch 17/50\n",
      "\u001b[1m460/461\u001b[0m \u001b[32m━━━━━━━━━━━━━━━━━━━\u001b[0m\u001b[37m━\u001b[0m \u001b[1m0s\u001b[0m 7ms/step - accuracy: 0.9260 - loss: 0.1963\n",
      "Epoch 17: val_accuracy did not improve from 0.91998\n",
      "\u001b[1m461/461\u001b[0m \u001b[32m━━━━━━━━━━━━━━━━━━━━\u001b[0m\u001b[37m\u001b[0m \u001b[1m3s\u001b[0m 7ms/step - accuracy: 0.9260 - loss: 0.1963 - val_accuracy: 0.9181 - val_loss: 0.2109\n",
      "Epoch 18/50\n",
      "\u001b[1m460/461\u001b[0m \u001b[32m━━━━━━━━━━━━━━━━━━━\u001b[0m\u001b[37m━\u001b[0m \u001b[1m0s\u001b[0m 7ms/step - accuracy: 0.9346 - loss: 0.1857\n",
      "Epoch 18: val_accuracy did not improve from 0.91998\n",
      "\u001b[1m461/461\u001b[0m \u001b[32m━━━━━━━━━━━━━━━━━━━━\u001b[0m\u001b[37m\u001b[0m \u001b[1m3s\u001b[0m 7ms/step - accuracy: 0.9346 - loss: 0.1857 - val_accuracy: 0.9181 - val_loss: 0.2096\n",
      "Epoch 19/50\n",
      "\u001b[1m457/461\u001b[0m \u001b[32m━━━━━━━━━━━━━━━━━━━\u001b[0m\u001b[37m━\u001b[0m \u001b[1m0s\u001b[0m 7ms/step - accuracy: 0.9295 - loss: 0.1895\n",
      "Epoch 19: val_accuracy did not improve from 0.91998\n",
      "\u001b[1m461/461\u001b[0m \u001b[32m━━━━━━━━━━━━━━━━━━━━\u001b[0m\u001b[37m\u001b[0m \u001b[1m3s\u001b[0m 7ms/step - accuracy: 0.9295 - loss: 0.1895 - val_accuracy: 0.9188 - val_loss: 0.2088\n",
      "Epoch 20/50\n",
      "\u001b[1m455/461\u001b[0m \u001b[32m━━━━━━━━━━━━━━━━━━━\u001b[0m\u001b[37m━\u001b[0m \u001b[1m0s\u001b[0m 9ms/step - accuracy: 0.9306 - loss: 0.1983\n",
      "Epoch 20: val_accuracy did not improve from 0.91998\n",
      "\u001b[1m461/461\u001b[0m \u001b[32m━━━━━━━━━━━━━━━━━━━━\u001b[0m\u001b[37m\u001b[0m \u001b[1m4s\u001b[0m 9ms/step - accuracy: 0.9307 - loss: 0.1981 - val_accuracy: 0.9200 - val_loss: 0.2081\n",
      "Epoch 21/50\n",
      "\u001b[1m461/461\u001b[0m \u001b[32m━━━━━━━━━━━━━━━━━━━━\u001b[0m\u001b[37m\u001b[0m \u001b[1m0s\u001b[0m 8ms/step - accuracy: 0.9322 - loss: 0.1835\n",
      "Epoch 21: val_accuracy did not improve from 0.91998\n",
      "\u001b[1m461/461\u001b[0m \u001b[32m━━━━━━━━━━━━━━━━━━━━\u001b[0m\u001b[37m\u001b[0m \u001b[1m4s\u001b[0m 8ms/step - accuracy: 0.9322 - loss: 0.1835 - val_accuracy: 0.9200 - val_loss: 0.2077\n",
      "Epoch 22/50\n",
      "\u001b[1m458/461\u001b[0m \u001b[32m━━━━━━━━━━━━━━━━━━━\u001b[0m\u001b[37m━\u001b[0m \u001b[1m0s\u001b[0m 8ms/step - accuracy: 0.9332 - loss: 0.1825\n",
      "Epoch 22: val_accuracy did not improve from 0.91998\n",
      "\u001b[1m461/461\u001b[0m \u001b[32m━━━━━━━━━━━━━━━━━━━━\u001b[0m\u001b[37m\u001b[0m \u001b[1m4s\u001b[0m 8ms/step - accuracy: 0.9332 - loss: 0.1825 - val_accuracy: 0.9194 - val_loss: 0.2071\n",
      "Epoch 23/50\n",
      "\u001b[1m460/461\u001b[0m \u001b[32m━━━━━━━━━━━━━━━━━━━\u001b[0m\u001b[37m━\u001b[0m \u001b[1m0s\u001b[0m 7ms/step - accuracy: 0.9328 - loss: 0.1804\n",
      "Epoch 23: val_accuracy did not improve from 0.91998\n",
      "\u001b[1m461/461\u001b[0m \u001b[32m━━━━━━━━━━━━━━━━━━━━\u001b[0m\u001b[37m\u001b[0m \u001b[1m3s\u001b[0m 8ms/step - accuracy: 0.9328 - loss: 0.1804 - val_accuracy: 0.9200 - val_loss: 0.2077\n",
      "Epoch 24/50\n",
      "\u001b[1m459/461\u001b[0m \u001b[32m━━━━━━━━━━━━━━━━━━━\u001b[0m\u001b[37m━\u001b[0m \u001b[1m0s\u001b[0m 7ms/step - accuracy: 0.9348 - loss: 0.1829\n",
      "Epoch 24: val_accuracy did not improve from 0.91998\n",
      "\u001b[1m461/461\u001b[0m \u001b[32m━━━━━━━━━━━━━━━━━━━━\u001b[0m\u001b[37m\u001b[0m \u001b[1m3s\u001b[0m 7ms/step - accuracy: 0.9348 - loss: 0.1829 - val_accuracy: 0.9200 - val_loss: 0.2065\n",
      "Epoch 25/50\n",
      "\u001b[1m458/461\u001b[0m \u001b[32m━━━━━━━━━━━━━━━━━━━\u001b[0m\u001b[37m━\u001b[0m \u001b[1m0s\u001b[0m 7ms/step - accuracy: 0.9362 - loss: 0.1743\n",
      "Epoch 25: val_accuracy did not improve from 0.91998\n",
      "\u001b[1m461/461\u001b[0m \u001b[32m━━━━━━━━━━━━━━━━━━━━\u001b[0m\u001b[37m\u001b[0m \u001b[1m3s\u001b[0m 8ms/step - accuracy: 0.9362 - loss: 0.1743 - val_accuracy: 0.9200 - val_loss: 0.2063\n",
      "Epoch 26/50\n",
      "\u001b[1m459/461\u001b[0m \u001b[32m━━━━━━━━━━━━━━━━━━━\u001b[0m\u001b[37m━\u001b[0m \u001b[1m0s\u001b[0m 7ms/step - accuracy: 0.9356 - loss: 0.1776\n",
      "Epoch 26: val_accuracy did not improve from 0.91998\n",
      "\u001b[1m461/461\u001b[0m \u001b[32m━━━━━━━━━━━━━━━━━━━━\u001b[0m\u001b[37m\u001b[0m \u001b[1m4s\u001b[0m 8ms/step - accuracy: 0.9356 - loss: 0.1776 - val_accuracy: 0.9200 - val_loss: 0.2059\n",
      "Epoch 27/50\n",
      "\u001b[1m460/461\u001b[0m \u001b[32m━━━━━━━━━━━━━━━━━━━\u001b[0m\u001b[37m━\u001b[0m \u001b[1m0s\u001b[0m 7ms/step - accuracy: 0.9399 - loss: 0.1717\n",
      "Epoch 27: val_accuracy did not improve from 0.91998\n",
      "\u001b[1m461/461\u001b[0m \u001b[32m━━━━━━━━━━━━━━━━━━━━\u001b[0m\u001b[37m\u001b[0m \u001b[1m3s\u001b[0m 7ms/step - accuracy: 0.9399 - loss: 0.1717 - val_accuracy: 0.9200 - val_loss: 0.2054\n",
      "Epoch 28/50\n",
      "\u001b[1m456/461\u001b[0m \u001b[32m━━━━━━━━━━━━━━━━━━━\u001b[0m\u001b[37m━\u001b[0m \u001b[1m0s\u001b[0m 7ms/step - accuracy: 0.9413 - loss: 0.1698\n",
      "Epoch 28: val_accuracy improved from 0.91998 to 0.92242, saving model to best_model.keras\n",
      "\u001b[1m461/461\u001b[0m \u001b[32m━━━━━━━━━━━━━━━━━━━━\u001b[0m\u001b[37m\u001b[0m \u001b[1m4s\u001b[0m 8ms/step - accuracy: 0.9413 - loss: 0.1699 - val_accuracy: 0.9224 - val_loss: 0.2050\n",
      "Epoch 29/50\n",
      "\u001b[1m458/461\u001b[0m \u001b[32m━━━━━━━━━━━━━━━━━━━\u001b[0m\u001b[37m━\u001b[0m \u001b[1m0s\u001b[0m 7ms/step - accuracy: 0.9378 - loss: 0.1815\n",
      "Epoch 29: val_accuracy did not improve from 0.92242\n",
      "\u001b[1m461/461\u001b[0m \u001b[32m━━━━━━━━━━━━━━━━━━━━\u001b[0m\u001b[37m\u001b[0m \u001b[1m3s\u001b[0m 7ms/step - accuracy: 0.9378 - loss: 0.1814 - val_accuracy: 0.9218 - val_loss: 0.2047\n",
      "Epoch 30/50\n",
      "\u001b[1m454/461\u001b[0m \u001b[32m━━━━━━━━━━━━━━━━━━━\u001b[0m\u001b[37m━\u001b[0m \u001b[1m0s\u001b[0m 7ms/step - accuracy: 0.9383 - loss: 0.1713\n",
      "Epoch 30: val_accuracy improved from 0.92242 to 0.92303, saving model to best_model.keras\n",
      "\u001b[1m461/461\u001b[0m \u001b[32m━━━━━━━━━━━━━━━━━━━━\u001b[0m\u001b[37m\u001b[0m \u001b[1m3s\u001b[0m 7ms/step - accuracy: 0.9383 - loss: 0.1713 - val_accuracy: 0.9230 - val_loss: 0.2044\n",
      "Epoch 31/50\n",
      "\u001b[1m455/461\u001b[0m \u001b[32m━━━━━━━━━━━━━━━━━━━\u001b[0m\u001b[37m━\u001b[0m \u001b[1m0s\u001b[0m 8ms/step - accuracy: 0.9369 - loss: 0.1743\n",
      "Epoch 31: val_accuracy did not improve from 0.92303\n",
      "\u001b[1m461/461\u001b[0m \u001b[32m━━━━━━━━━━━━━━━━━━━━\u001b[0m\u001b[37m\u001b[0m \u001b[1m4s\u001b[0m 8ms/step - accuracy: 0.9369 - loss: 0.1742 - val_accuracy: 0.9218 - val_loss: 0.2044\n",
      "Epoch 32/50\n",
      "\u001b[1m457/461\u001b[0m \u001b[32m━━━━━━━━━━━━━━━━━━━\u001b[0m\u001b[37m━\u001b[0m \u001b[1m0s\u001b[0m 7ms/step - accuracy: 0.9329 - loss: 0.1802\n",
      "Epoch 32: val_accuracy did not improve from 0.92303\n",
      "\u001b[1m461/461\u001b[0m \u001b[32m━━━━━━━━━━━━━━━━━━━━\u001b[0m\u001b[37m\u001b[0m \u001b[1m4s\u001b[0m 8ms/step - accuracy: 0.9330 - loss: 0.1801 - val_accuracy: 0.9218 - val_loss: 0.2052\n",
      "Epoch 33/50\n",
      "\u001b[1m458/461\u001b[0m \u001b[32m━━━━━━━━━━━━━━━━━━━\u001b[0m\u001b[37m━\u001b[0m \u001b[1m0s\u001b[0m 7ms/step - accuracy: 0.9389 - loss: 0.1732\n",
      "Epoch 33: val_accuracy did not improve from 0.92303\n",
      "\u001b[1m461/461\u001b[0m \u001b[32m━━━━━━━━━━━━━━━━━━━━\u001b[0m\u001b[37m\u001b[0m \u001b[1m3s\u001b[0m 7ms/step - accuracy: 0.9389 - loss: 0.1731 - val_accuracy: 0.9218 - val_loss: 0.2054\n",
      "Epoch 34/50\n",
      "\u001b[1m457/461\u001b[0m \u001b[32m━━━━━━━━━━━━━━━━━━━\u001b[0m\u001b[37m━\u001b[0m \u001b[1m0s\u001b[0m 7ms/step - accuracy: 0.9370 - loss: 0.1760\n",
      "Epoch 34: val_accuracy did not improve from 0.92303\n",
      "\u001b[1m461/461\u001b[0m \u001b[32m━━━━━━━━━━━━━━━━━━━━\u001b[0m\u001b[37m\u001b[0m \u001b[1m4s\u001b[0m 8ms/step - accuracy: 0.9370 - loss: 0.1759 - val_accuracy: 0.9218 - val_loss: 0.2063\n",
      "Epoch 35/50\n",
      "\u001b[1m455/461\u001b[0m \u001b[32m━━━━━━━━━━━━━━━━━━━\u001b[0m\u001b[37m━\u001b[0m \u001b[1m0s\u001b[0m 7ms/step - accuracy: 0.9432 - loss: 0.1635\n",
      "Epoch 35: val_accuracy improved from 0.92303 to 0.92364, saving model to best_model.keras\n",
      "\u001b[1m461/461\u001b[0m \u001b[32m━━━━━━━━━━━━━━━━━━━━\u001b[0m\u001b[37m\u001b[0m \u001b[1m3s\u001b[0m 7ms/step - accuracy: 0.9432 - loss: 0.1635 - val_accuracy: 0.9236 - val_loss: 0.2040\n",
      "Epoch 36/50\n",
      "\u001b[1m460/461\u001b[0m \u001b[32m━━━━━━━━━━━━━━━━━━━\u001b[0m\u001b[37m━\u001b[0m \u001b[1m0s\u001b[0m 7ms/step - accuracy: 0.9378 - loss: 0.1632\n",
      "Epoch 36: val_accuracy did not improve from 0.92364\n",
      "\u001b[1m461/461\u001b[0m \u001b[32m━━━━━━━━━━━━━━━━━━━━\u001b[0m\u001b[37m\u001b[0m \u001b[1m3s\u001b[0m 7ms/step - accuracy: 0.9379 - loss: 0.1632 - val_accuracy: 0.9236 - val_loss: 0.2036\n",
      "Epoch 37/50\n",
      "\u001b[1m461/461\u001b[0m \u001b[32m━━━━━━━━━━━━━━━━━━━━\u001b[0m\u001b[37m\u001b[0m \u001b[1m0s\u001b[0m 7ms/step - accuracy: 0.9416 - loss: 0.1633\n",
      "Epoch 37: val_accuracy improved from 0.92364 to 0.92425, saving model to best_model.keras\n",
      "\u001b[1m461/461\u001b[0m \u001b[32m━━━━━━━━━━━━━━━━━━━━\u001b[0m\u001b[37m\u001b[0m \u001b[1m4s\u001b[0m 8ms/step - accuracy: 0.9416 - loss: 0.1633 - val_accuracy: 0.9243 - val_loss: 0.2036\n",
      "Epoch 38/50\n",
      "\u001b[1m456/461\u001b[0m \u001b[32m━━━━━━━━━━━━━━━━━━━\u001b[0m\u001b[37m━\u001b[0m \u001b[1m0s\u001b[0m 7ms/step - accuracy: 0.9429 - loss: 0.1621\n",
      "Epoch 38: val_accuracy did not improve from 0.92425\n",
      "\u001b[1m461/461\u001b[0m \u001b[32m━━━━━━━━━━━━━━━━━━━━\u001b[0m\u001b[37m\u001b[0m \u001b[1m3s\u001b[0m 7ms/step - accuracy: 0.9429 - loss: 0.1622 - val_accuracy: 0.9224 - val_loss: 0.2046\n",
      "Epoch 39/50\n",
      "\u001b[1m460/461\u001b[0m \u001b[32m━━━━━━━━━━━━━━━━━━━\u001b[0m\u001b[37m━\u001b[0m \u001b[1m0s\u001b[0m 7ms/step - accuracy: 0.9413 - loss: 0.1654\n",
      "Epoch 39: val_accuracy did not improve from 0.92425\n",
      "\u001b[1m461/461\u001b[0m \u001b[32m━━━━━━━━━━━━━━━━━━━━\u001b[0m\u001b[37m\u001b[0m \u001b[1m3s\u001b[0m 7ms/step - accuracy: 0.9413 - loss: 0.1654 - val_accuracy: 0.9236 - val_loss: 0.2043\n",
      "Epoch 40/50\n",
      "\u001b[1m456/461\u001b[0m \u001b[32m━━━━━━━━━━━━━━━━━━━\u001b[0m\u001b[37m━\u001b[0m \u001b[1m0s\u001b[0m 7ms/step - accuracy: 0.9402 - loss: 0.1669\n",
      "Epoch 40: val_accuracy improved from 0.92425 to 0.92486, saving model to best_model.keras\n",
      "\u001b[1m461/461\u001b[0m \u001b[32m━━━━━━━━━━━━━━━━━━━━\u001b[0m\u001b[37m\u001b[0m \u001b[1m3s\u001b[0m 7ms/step - accuracy: 0.9402 - loss: 0.1668 - val_accuracy: 0.9249 - val_loss: 0.2033\n",
      "Epoch 41/50\n",
      "\u001b[1m460/461\u001b[0m \u001b[32m━━━━━━━━━━━━━━━━━━━\u001b[0m\u001b[37m━\u001b[0m \u001b[1m0s\u001b[0m 7ms/step - accuracy: 0.9458 - loss: 0.1529\n",
      "Epoch 41: val_accuracy did not improve from 0.92486\n",
      "\u001b[1m461/461\u001b[0m \u001b[32m━━━━━━━━━━━━━━━━━━━━\u001b[0m\u001b[37m\u001b[0m \u001b[1m3s\u001b[0m 7ms/step - accuracy: 0.9458 - loss: 0.1529 - val_accuracy: 0.9249 - val_loss: 0.2030\n",
      "Epoch 42/50\n",
      "\u001b[1m459/461\u001b[0m \u001b[32m━━━━━━━━━━━━━━━━━━━\u001b[0m\u001b[37m━\u001b[0m \u001b[1m0s\u001b[0m 8ms/step - accuracy: 0.9412 - loss: 0.1636\n",
      "Epoch 42: val_accuracy did not improve from 0.92486\n",
      "\u001b[1m461/461\u001b[0m \u001b[32m━━━━━━━━━━━━━━━━━━━━\u001b[0m\u001b[37m\u001b[0m \u001b[1m4s\u001b[0m 8ms/step - accuracy: 0.9412 - loss: 0.1636 - val_accuracy: 0.9243 - val_loss: 0.2032\n",
      "Epoch 43/50\n",
      "\u001b[1m456/461\u001b[0m \u001b[32m━━━━━━━━━━━━━━━━━━━\u001b[0m\u001b[37m━\u001b[0m \u001b[1m0s\u001b[0m 7ms/step - accuracy: 0.9452 - loss: 0.1597\n",
      "Epoch 43: val_accuracy did not improve from 0.92486\n",
      "\u001b[1m461/461\u001b[0m \u001b[32m━━━━━━━━━━━━━━━━━━━━\u001b[0m\u001b[37m\u001b[0m \u001b[1m3s\u001b[0m 8ms/step - accuracy: 0.9452 - loss: 0.1597 - val_accuracy: 0.9236 - val_loss: 0.2030\n",
      "Epoch 44/50\n",
      "\u001b[1m457/461\u001b[0m \u001b[32m━━━━━━━━━━━━━━━━━━━\u001b[0m\u001b[37m━\u001b[0m \u001b[1m0s\u001b[0m 8ms/step - accuracy: 0.9436 - loss: 0.1607\n",
      "Epoch 44: val_accuracy did not improve from 0.92486\n",
      "\u001b[1m461/461\u001b[0m \u001b[32m━━━━━━━━━━━━━━━━━━━━\u001b[0m\u001b[37m\u001b[0m \u001b[1m4s\u001b[0m 8ms/step - accuracy: 0.9436 - loss: 0.1607 - val_accuracy: 0.9249 - val_loss: 0.2030\n",
      "Epoch 45/50\n",
      "\u001b[1m461/461\u001b[0m \u001b[32m━━━━━━━━━━━━━━━━━━━━\u001b[0m\u001b[37m\u001b[0m \u001b[1m0s\u001b[0m 7ms/step - accuracy: 0.9467 - loss: 0.1513\n",
      "Epoch 45: val_accuracy did not improve from 0.92486\n",
      "\u001b[1m461/461\u001b[0m \u001b[32m━━━━━━━━━━━━━━━━━━━━\u001b[0m\u001b[37m\u001b[0m \u001b[1m4s\u001b[0m 8ms/step - accuracy: 0.9467 - loss: 0.1513 - val_accuracy: 0.9243 - val_loss: 0.2033\n",
      "Epoch 46/50\n",
      "\u001b[1m460/461\u001b[0m \u001b[32m━━━━━━━━━━━━━━━━━━━\u001b[0m\u001b[37m━\u001b[0m \u001b[1m0s\u001b[0m 7ms/step - accuracy: 0.9440 - loss: 0.1546\n",
      "Epoch 46: val_accuracy improved from 0.92486 to 0.92547, saving model to best_model.keras\n",
      "\u001b[1m461/461\u001b[0m \u001b[32m━━━━━━━━━━━━━━━━━━━━\u001b[0m\u001b[37m\u001b[0m \u001b[1m4s\u001b[0m 8ms/step - accuracy: 0.9440 - loss: 0.1546 - val_accuracy: 0.9255 - val_loss: 0.2041\n",
      "Epoch 47/50\n",
      "\u001b[1m458/461\u001b[0m \u001b[32m━━━━━━━━━━━━━━━━━━━\u001b[0m\u001b[37m━\u001b[0m \u001b[1m0s\u001b[0m 8ms/step - accuracy: 0.9450 - loss: 0.1559\n",
      "Epoch 47: val_accuracy did not improve from 0.92547\n",
      "\u001b[1m461/461\u001b[0m \u001b[32m━━━━━━━━━━━━━━━━━━━━\u001b[0m\u001b[37m\u001b[0m \u001b[1m4s\u001b[0m 8ms/step - accuracy: 0.9450 - loss: 0.1559 - val_accuracy: 0.9249 - val_loss: 0.2033\n",
      "Epoch 48/50\n",
      "\u001b[1m456/461\u001b[0m \u001b[32m━━━━━━━━━━━━━━━━━━━\u001b[0m\u001b[37m━\u001b[0m \u001b[1m0s\u001b[0m 8ms/step - accuracy: 0.9476 - loss: 0.1478\n",
      "Epoch 48: val_accuracy did not improve from 0.92547\n",
      "\u001b[1m461/461\u001b[0m \u001b[32m━━━━━━━━━━━━━━━━━━━━\u001b[0m\u001b[37m\u001b[0m \u001b[1m4s\u001b[0m 8ms/step - accuracy: 0.9476 - loss: 0.1478 - val_accuracy: 0.9255 - val_loss: 0.2038\n",
      "Epoch 49/50\n",
      "\u001b[1m461/461\u001b[0m \u001b[32m━━━━━━━━━━━━━━━━━━━━\u001b[0m\u001b[37m\u001b[0m \u001b[1m0s\u001b[0m 7ms/step - accuracy: 0.9457 - loss: 0.1521\n",
      "Epoch 49: val_accuracy did not improve from 0.92547\n",
      "\u001b[1m461/461\u001b[0m \u001b[32m━━━━━━━━━━━━━━━━━━━━\u001b[0m\u001b[37m\u001b[0m \u001b[1m4s\u001b[0m 8ms/step - accuracy: 0.9457 - loss: 0.1521 - val_accuracy: 0.9249 - val_loss: 0.2039\n",
      "Epoch 50/50\n",
      "\u001b[1m461/461\u001b[0m \u001b[32m━━━━━━━━━━━━━━━━━━━━\u001b[0m\u001b[37m\u001b[0m \u001b[1m0s\u001b[0m 7ms/step - accuracy: 0.9459 - loss: 0.1507\n",
      "Epoch 50: val_accuracy did not improve from 0.92547\n",
      "\u001b[1m461/461\u001b[0m \u001b[32m━━━━━━━━━━━━━━━━━━━━\u001b[0m\u001b[37m\u001b[0m \u001b[1m4s\u001b[0m 8ms/step - accuracy: 0.9459 - loss: 0.1507 - val_accuracy: 0.9255 - val_loss: 0.2042\n"
     ]
    },
    {
     "data": {
      "text/plain": [
       "<keras.src.callbacks.history.History at 0x1b75a16cb50>"
      ]
     },
     "execution_count": 50,
     "metadata": {},
     "output_type": "execute_result"
    }
   ],
   "source": [
    "model.fit(X_train, y_train, epochs=50, batch_size=32, validation_data=[X_test,y_test],callbacks=[checkpoint_callback])"
   ]
  },
  {
   "cell_type": "code",
   "execution_count": 51,
   "metadata": {},
   "outputs": [
    {
     "name": "stderr",
     "output_type": "stream",
     "text": [
      "WARNING:absl:You are saving your model as an HDF5 file via `model.save()` or `keras.saving.save_model(model)`. This file format is considered legacy. We recommend using instead the native Keras format, e.g. `model.save('my_model.keras')` or `keras.saving.save_model(model, 'my_model.keras')`. \n"
     ]
    }
   ],
   "source": [
    "from tensorflow.keras.models import save_model\n",
    "\n",
    "# Save Keras model\n",
    "save_model(model, 'text_model.h5')"
   ]
  },
  {
   "cell_type": "code",
   "execution_count": 64,
   "metadata": {},
   "outputs": [
    {
     "name": "stdout",
     "output_type": "stream",
     "text": [
      "INFO:tensorflow:Assets written to: C:\\Users\\Work\\Desktop\\cppCode\\project\\model_creation\\keras_model\\assets\n"
     ]
    },
    {
     "name": "stderr",
     "output_type": "stream",
     "text": [
      "INFO:tensorflow:Assets written to: C:\\Users\\Work\\Desktop\\cppCode\\project\\model_creation\\keras_model\\assets\n"
     ]
    },
    {
     "name": "stdout",
     "output_type": "stream",
     "text": [
      "Saved artifact at 'C:\\Users\\Work\\Desktop\\cppCode\\project\\model_creation\\keras_model'. The following endpoints are available:\n",
      "\n",
      "* Endpoint 'serve'\n",
      "  args_0 (POSITIONAL_ONLY): TensorSpec(shape=(None, 1536), dtype=tf.float32, name='keras_tensor_234')\n",
      "Output Type:\n",
      "  TensorSpec(shape=(None, 1), dtype=tf.float32, name=None)\n",
      "Captures:\n",
      "  1886939599568: TensorSpec(shape=(), dtype=tf.resource, name=None)\n",
      "  1886939595168: TensorSpec(shape=(), dtype=tf.resource, name=None)\n",
      "  1886482562768: TensorSpec(shape=(), dtype=tf.resource, name=None)\n",
      "  1886482548336: TensorSpec(shape=(), dtype=tf.resource, name=None)\n",
      "  1886482557312: TensorSpec(shape=(), dtype=tf.resource, name=None)\n",
      "  1886482549216: TensorSpec(shape=(), dtype=tf.resource, name=None)\n",
      "  1886482561536: TensorSpec(shape=(), dtype=tf.resource, name=None)\n",
      "  1886937821632: TensorSpec(shape=(), dtype=tf.resource, name=None)\n"
     ]
    }
   ],
   "source": [
    "model_path = r\"C:\\Users\\Work\\Desktop\\cppCode\\project\\model_creation\\keras_model\"  # Specify the filepath without an extension\n",
    "\n",
    "# Save the model using TensorFlow SavedModel format (no file extension)\n",
    "model.export(model_path)"
   ]
  },
  {
   "cell_type": "code",
   "execution_count": null,
   "metadata": {},
   "outputs": [],
   "source": [
    "from tensorflow.keras.models import load_model\n",
    "best_model = load_model('best_model.keras')\n",
    "\n"
   ]
  },
  {
   "cell_type": "code",
   "execution_count": 65,
   "metadata": {},
   "outputs": [
    {
     "name": "stderr",
     "output_type": "stream",
     "text": [
      "2024-04-21 23:34:32.324436: I tensorflow/core/util/port.cc:113] oneDNN custom operations are on. You may see slightly different numerical results due to floating-point round-off errors from different computation orders. To turn them off, set the environment variable `TF_ENABLE_ONEDNN_OPTS=0`.\n",
      "2024-04-21 23:34:33.362340: I tensorflow/core/util/port.cc:113] oneDNN custom operations are on. You may see slightly different numerical results due to floating-point round-off errors from different computation orders. To turn them off, set the environment variable `TF_ENABLE_ONEDNN_OPTS=0`.\n",
      "WARNING:tensorflow:From c:\\Users\\Aditya Joshi\\AppData\\Local\\Programs\\Python\\Python311\\Lib\\site-packages\\tf2onnx\\tf_loader.py:68: The name tf.reset_default_graph is deprecated. Please use tf.compat.v1.reset_default_graph instead.\n",
      "\n",
      "WARNING:tensorflow:From c:\\Users\\Aditya Joshi\\AppData\\Local\\Programs\\Python\\Python311\\Lib\\site-packages\\tf2onnx\\tf_loader.py:72: The name tf.train.import_meta_graph is deprecated. Please use tf.compat.v1.train.import_meta_graph instead.\n",
      "\n",
      "<frozen runpy>:128: RuntimeWarning: 'tf2onnx.convert' found in sys.modules after import of package 'tf2onnx', but prior to execution of 'tf2onnx.convert'; this may result in unpredictable behaviour\n",
      "2024-04-21 23:34:38,003 - WARNING - ***IMPORTANT*** Installed protobuf is not cpp accelerated. Conversion will be extremely slow. See https://github.com/onnx/tensorflow-onnx/issues/1557\n",
      "2024-04-21 23:34:38.004345: I tensorflow/core/platform/cpu_feature_guard.cc:210] This TensorFlow binary is optimized to use available CPU instructions in performance-critical operations.\n",
      "To enable the following instructions: AVX2 FMA, in other operations, rebuild TensorFlow with the appropriate compiler flags.\n",
      "2024-04-21 23:34:38,005 - WARNING - '--tag' not specified for saved_model. Using --tag serve\n",
      "2024-04-21 23:34:38,212 - INFO - Signatures found in model: [serve,serving_default].\n",
      "2024-04-21 23:34:38,212 - WARNING - '--signature_def' not specified, using first signature: serve\n",
      "2024-04-21 23:34:38,212 - INFO - Output names: ['output_0']\n",
      "2024-04-21 23:34:38.223822: I tensorflow/core/grappler/devices.cc:75] Number of eligible GPUs (core count >= 8, compute capability >= 0.0): 0 (Note: TensorFlow was not compiled with CUDA or ROCm support)\n",
      "2024-04-21 23:34:38.224253: I tensorflow/core/grappler/clusters/single_machine.cc:361] Starting new session\n",
      "2024-04-21 23:34:38.388373: I tensorflow/core/grappler/devices.cc:75] Number of eligible GPUs (core count >= 8, compute capability >= 0.0): 0 (Note: TensorFlow was not compiled with CUDA or ROCm support)\n",
      "2024-04-21 23:34:38.388743: I tensorflow/core/grappler/clusters/single_machine.cc:361] Starting new session\n",
      "2024-04-21 23:34:38,450 - INFO - Using tensorflow=2.16.1, onnx=1.15.0, tf2onnx=1.16.1/15c810\n",
      "2024-04-21 23:34:38,450 - INFO - Using opset <onnx, 15>\n",
      "2024-04-21 23:34:38,478 - INFO - Computed 0 values for constant folding\n",
      "2024-04-21 23:34:38,506 - INFO - Optimizing ONNX model\n",
      "2024-04-21 23:34:38,549 - INFO - After optimization: Identity -2 (2->0)\n",
      "2024-04-21 23:34:38,555 - INFO - \n",
      "2024-04-21 23:34:38,555 - INFO - Successfully converted TensorFlow model C:\\Users\\Work\\Desktop\\cppCode\\project\\model_creation\\text_model to ONNX\n",
      "2024-04-21 23:34:38,555 - INFO - Model inputs: ['keras_tensor_234']\n",
      "2024-04-21 23:34:38,556 - INFO - Model outputs: ['output_0']\n",
      "2024-04-21 23:34:38,556 - INFO - ONNX model is saved at model.onnx\n"
     ]
    }
   ],
   "source": [
    "!python -m tf2onnx.convert --saved-model C:\\Users\\Work\\Desktop\\cppCode\\project\\model_creation\\text_model --output model.onnx"
   ]
  },
  {
   "cell_type": "code",
   "execution_count": 67,
   "metadata": {},
   "outputs": [],
   "source": [
    "import onnxruntime as ort\n",
    "\n",
    "# Load the ONNX model\n",
    "model_path = r\"C:\\Users\\Work\\Desktop\\cppCode\\project\\text_model.onnx\"\n",
    "session = ort.InferenceSession(model_path)\n",
    "\n"
   ]
  },
  {
   "cell_type": "code",
   "execution_count": 69,
   "metadata": {},
   "outputs": [
    {
     "name": "stdout",
     "output_type": "stream",
     "text": [
      "Input name, Output Name: ('keras_tensor_234', 'output_0')\n"
     ]
    }
   ],
   "source": [
    "input_name = session.get_inputs()[0].name\n",
    "output_name = session.get_outputs()[0].name\n",
    "print(f'Input name, Output Name: {input_name, output_name}')\n"
   ]
  },
  {
   "cell_type": "code",
   "execution_count": 72,
   "metadata": {},
   "outputs": [],
   "source": [
    "# Prepare input data\n",
    "input_data = [X_test[0]]\n",
    "\n",
    "# Run inference\n",
    "outputs = session.run([output_name], {input_name: input_data})\n",
    "\n",
    "# Process the output\n",
    "# ...\n"
   ]
  },
  {
   "cell_type": "code",
   "execution_count": 73,
   "metadata": {},
   "outputs": [
    {
     "data": {
      "text/plain": [
       "[array([[0.9901861]], dtype=float32)]"
      ]
     },
     "execution_count": 73,
     "metadata": {},
     "output_type": "execute_result"
    }
   ],
   "source": [
    "outputs"
   ]
  },
  {
   "cell_type": "code",
   "execution_count": 75,
   "metadata": {},
   "outputs": [
    {
     "data": {
      "text/plain": [
       "8812     1\n",
       "10802    0\n",
       "5397     1\n",
       "13806    0\n",
       "10064    1\n",
       "        ..\n",
       "15824    0\n",
       "11882    0\n",
       "1398     0\n",
       "10742    0\n",
       "6248     0\n",
       "Name: sentiment, Length: 1637, dtype: int64"
      ]
     },
     "execution_count": 75,
     "metadata": {},
     "output_type": "execute_result"
    }
   ],
   "source": [
    "y_test"
   ]
  },
  {
   "cell_type": "code",
   "execution_count": null,
   "metadata": {},
   "outputs": [],
   "source": []
  }
 ],
 "metadata": {
  "kernelspec": {
   "display_name": "Python 3",
   "language": "python",
   "name": "python3"
  },
  "language_info": {
   "codemirror_mode": {
    "name": "ipython",
    "version": 3
   },
   "file_extension": ".py",
   "mimetype": "text/x-python",
   "name": "python",
   "nbconvert_exporter": "python",
   "pygments_lexer": "ipython3",
   "version": "3.11.4"
  }
 },
 "nbformat": 4,
 "nbformat_minor": 2
}
